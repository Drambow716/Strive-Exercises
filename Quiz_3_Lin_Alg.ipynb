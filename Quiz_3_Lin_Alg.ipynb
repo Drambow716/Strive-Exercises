{
 "cells": [
  {
   "cell_type": "markdown",
   "metadata": {},
   "source": [
    "## Linear Algebra Quiz #3\n",
    "\n",
    "![title](./img/3_0.jpeg)\n",
    "\n",
    "We strongly suggest working with numpy :)"
   ]
  },
  {
   "cell_type": "code",
   "execution_count": 1,
   "metadata": {},
   "outputs": [],
   "source": [
    "#Do your imports here\n",
    "import numpy as np"
   ]
  },
  {
   "cell_type": "markdown",
   "metadata": {},
   "source": [
    "![title](./img/3_2.png)\n",
    "![title](./img/3_3.png)\n",
    "Create a program that can output\n",
    "\n",
    "- What is the value of element c23​ of Matrix C where C=A x B ?\n",
    "- What is the value of element c23​ of Matrix C where C=B x A ?"
   ]
  },
  {
   "cell_type": "code",
   "execution_count": 31,
   "metadata": {},
   "outputs": [
    {
     "name": "stdout",
     "output_type": "stream",
     "text": [
      "[[ 23.   18.    4. ]\n",
      " [ 22.  -16.5   5. ]\n",
      " [-71.    2.  -35. ]]\n",
      "5.0\n",
      "[[-25.   17.   13. ]\n",
      " [ -1.    8.   16. ]\n",
      " [ 27.5  24.  -11.5]]\n",
      "16.0\n"
     ]
    }
   ],
   "source": [
    "\"\"\"A = np.array([0.6,-15,2,5,98])\n",
    "B = np.array([[2,2,-4],[9,-14,0],[13,-0.5,44],[1,9,4],[0,0,5]])\"\"\"\n",
    "\n",
    "A = np.array([[3,1,2],[-5,4,1],[0,3,-8]])\n",
    "B = np.array([[0,5,-1],[3,2,-1],[10,0.5,4]])\n",
    "\n",
    "C = A @ B\n",
    "print(C)\n",
    "\n",
    "C23 = C[1,2]\n",
    "\n",
    "print(C23)\n",
    "\n",
    "C = B @ A\n",
    "print(C)\n",
    "\n",
    "C23 = C[1,2]\n",
    "\n",
    "print(C23)\n",
    "\n",
    "# C = B x A is not possible because the rows and columns numbers are different."
   ]
  },
  {
   "cell_type": "code",
   "execution_count": 5,
   "metadata": {},
   "outputs": [
    {
     "data": {
      "text/plain": [
       "array([ 98. ,   5. ,   2. , -15. ,   0.6])"
      ]
     },
     "execution_count": 5,
     "metadata": {},
     "output_type": "execute_result"
    }
   ],
   "source": [
    "# okay numpy is great but... how would you inverse a matrix by hand?\n",
    "\n",
    "A = np.array([0.6,-15,2,5,98])\n",
    "\n",
    "def inverse_matrix(A):\n",
    "    \n",
    "    List = A.tolist()\n",
    "    \n",
    "    List.reverse()\n",
    "    \n",
    "    return np.array(List)\n",
    "\n",
    "inverse_matrix(A)"
   ]
  },
  {
   "cell_type": "markdown",
   "metadata": {},
   "source": [
    "![title](./img/3_1.png)\n",
    "Create a program that can output\n",
    "\n",
    "- What is the value of the ijth element if i = 2 and j=3?\n",
    "- What is the value of the ijth element if i = 3 and j=1?"
   ]
  },
  {
   "cell_type": "code",
   "execution_count": 42,
   "metadata": {},
   "outputs": [
    {
     "name": "stdout",
     "output_type": "stream",
     "text": [
      "[7.0, -9.0, -7.7]\n"
     ]
    },
    {
     "data": {
      "text/plain": [
       "'def ijth(i,j):\\n    \\n    ijth = [i-1,j-1]\\n    \\n    for a,b,c in zip(A,B,C):\\n        '"
      ]
     },
     "execution_count": 42,
     "metadata": {},
     "output_type": "execute_result"
    }
   ],
   "source": [
    "# Just answer using code --> easy stuff!\n",
    "\n",
    "i = 3\n",
    "j = 1\n",
    "\n",
    "A = np.array([[3,0.6,4,-2],[-1.3,4,0,8.6],[7,0,-8,0.006]])\n",
    "B = np.array([[3,5.76,45,0],[2,-2,1.3,9],[-9,0,0,0]])\n",
    "C = np.array([[0,1009,-66.7849,90],[0,5,4,-0.07],[-7.7,0,0,0]])\n",
    "\n",
    "ijth = [i-1,j-1]\n",
    "\n",
    "def ijth_element(i,j):\n",
    "    elements = []\n",
    "    for e in [A,B,C]:\n",
    "    \n",
    "        elements.append(e[ijth[0],ijth[1]])\n",
    "    \n",
    "    return elements\n",
    "\n",
    "print(ijth_element(i,j))\n",
    "\n",
    "\"\"\"def ijth(i,j):\n",
    "    \n",
    "    ijth = [i-1,j-1]\n",
    "    \n",
    "    for a,b,c in zip(A,B,C):\n",
    "        \"\"\"\n",
    "\n",
    "# Harder\n",
    "# Can you build a matrix solver that can do output the result given n matrices and a sequence of operations such as [add subtract multiply transpose?]\n",
    "#Some ideas on valid operations: Multiplication Addition Subtraction Inverstion Transposed. "
   ]
  },
  {
   "cell_type": "markdown",
   "metadata": {},
   "source": [
    "![title](./img/3_3.png)\n",
    "Create a program that can output\n",
    "- How many rows will C have?\n",
    "- How many columns will C have?\n",
    "- What will be the value of c13​?"
   ]
  }
 ],
 "metadata": {
  "kernelspec": {
   "display_name": "Python 3",
   "language": "python",
   "name": "python3"
  },
  "language_info": {
   "codemirror_mode": {
    "name": "ipython",
    "version": 3
   },
   "file_extension": ".py",
   "mimetype": "text/x-python",
   "name": "python",
   "nbconvert_exporter": "python",
   "pygments_lexer": "ipython3",
   "version": "3.8.8"
  },
  "varInspector": {
   "cols": {
    "lenName": 16,
    "lenType": 16,
    "lenVar": 40
   },
   "kernels_config": {
    "python": {
     "delete_cmd_postfix": "",
     "delete_cmd_prefix": "del ",
     "library": "var_list.py",
     "varRefreshCmd": "print(var_dic_list())"
    },
    "r": {
     "delete_cmd_postfix": ") ",
     "delete_cmd_prefix": "rm(",
     "library": "var_list.r",
     "varRefreshCmd": "cat(var_dic_list()) "
    }
   },
   "types_to_exclude": [
    "module",
    "function",
    "builtin_function_or_method",
    "instance",
    "_Feature"
   ],
   "window_display": false
  }
 },
 "nbformat": 4,
 "nbformat_minor": 2
}
