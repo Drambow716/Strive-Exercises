{
 "cells": [
  {
   "cell_type": "markdown",
   "source": [
    "# Linear Regression From Scratch\r\n",
    "In this notebook you will implement linear regression using the least squares method.\r\n",
    "\r\n",
    "The notebook will guide you in the general steps. You may use only numpy, pandas, and matplotlib for this exercise.\r\n",
    "\r\n",
    "#### Math Background\r\n",
    "The task is to solve linear regression for the data set of ```x``` and ```y```. That is, fit a line y to the data such that ```y = a + bx + e```. Where a and b are coefficents and e is an error term.\r\n",
    "\r\n",
    "We know that ```b = SUM ( xi - x_mean) * (yi - y_mean) / SUM (xi - x_mean)^2``` where ```xi```, and ```yi``` are the indivdual observations and ```x_mean```, ```y_mean``` are means of all ```xi``` and ```yi```.\r\n",
    "\r\n",
    "So a reasonable solution then for a fit is ```a = y_mean - b * x_mean```.\r\n",
    "\r\n",
    "\r\n",
    "#### Implementation Steps\r\n",
    "1. Load the file ```reg_data.csv```\r\n",
    "2. Display the data with a scatter plot. Write a markdown cell and comment on the structure of the data and what kind of line you think will fit the data. \r\n",
    "3. Implement a function of the least squares method.\r\n",
    "4. Plot the predictions from your function.\r\n",
    "5. Comment on the output of your function. Does it make sense? Can it be made better? If yes, how?"
   ],
   "metadata": {
    "deletable": false,
    "editable": false,
    "nbgrader": {
     "checksum": "fbfaeccba7c78624daa81efaeac3384d",
     "grade": false,
     "grade_id": "cell-9bac3e2eaf76d09a",
     "locked": true,
     "schema_version": 3,
     "solution": false,
     "task": false
    }
   }
  },
  {
   "cell_type": "code",
   "execution_count": 1,
   "source": [
    "#import the minimum packages\r\n",
    "import numpy as np\r\n",
    "import pandas as pd\r\n",
    "import matplotlib.pyplot as plt\r\n",
    "from sklearn.model_selection import train_test_split"
   ],
   "outputs": [],
   "metadata": {}
  },
  {
   "cell_type": "code",
   "execution_count": 4,
   "source": [
    "df = pd.read_csv(\"reg_data.csv\")"
   ],
   "outputs": [],
   "metadata": {
    "deletable": false,
    "nbgrader": {
     "checksum": "2c551326ada620ac865e47a09cfd6e88",
     "grade": false,
     "grade_id": "cell-4104816f50e4844b",
     "locked": false,
     "schema_version": 3,
     "solution": true,
     "task": false
    }
   }
  },
  {
   "cell_type": "code",
   "execution_count": 3,
   "source": [
    "assert df.shape == (100,2)"
   ],
   "outputs": [],
   "metadata": {
    "deletable": false,
    "editable": false,
    "nbgrader": {
     "checksum": "5a44bd6c555f034b17e8b48663c46fbf",
     "grade": true,
     "grade_id": "cell-3676b87d8fc79bbd",
     "locked": true,
     "points": 1,
     "schema_version": 3,
     "solution": false,
     "task": false
    }
   }
  },
  {
   "cell_type": "code",
   "execution_count": 31,
   "source": [
    "plt.scatter(df.X,df.Y)"
   ],
   "outputs": [
    {
     "output_type": "execute_result",
     "data": {
      "text/plain": [
       "<matplotlib.collections.PathCollection at 0x1399a890df0>"
      ]
     },
     "metadata": {},
     "execution_count": 31
    },
    {
     "output_type": "display_data",
     "data": {
      "text/plain": [
       "<Figure size 432x288 with 1 Axes>"
      ],
      "image/svg+xml": "<?xml version=\"1.0\" encoding=\"utf-8\" standalone=\"no\"?>\r\n<!DOCTYPE svg PUBLIC \"-//W3C//DTD SVG 1.1//EN\"\r\n  \"http://www.w3.org/Graphics/SVG/1.1/DTD/svg11.dtd\">\r\n<svg height=\"248.518125pt\" version=\"1.1\" viewBox=\"0 0 375.2875 248.518125\" width=\"375.2875pt\" xmlns=\"http://www.w3.org/2000/svg\" xmlns:xlink=\"http://www.w3.org/1999/xlink\">\r\n <metadata>\r\n  <rdf:RDF xmlns:cc=\"http://creativecommons.org/ns#\" xmlns:dc=\"http://purl.org/dc/elements/1.1/\" xmlns:rdf=\"http://www.w3.org/1999/02/22-rdf-syntax-ns#\">\r\n   <cc:Work>\r\n    <dc:type rdf:resource=\"http://purl.org/dc/dcmitype/StillImage\"/>\r\n    <dc:date>2021-08-17T12:42:28.097845</dc:date>\r\n    <dc:format>image/svg+xml</dc:format>\r\n    <dc:creator>\r\n     <cc:Agent>\r\n      <dc:title>Matplotlib v3.4.3, https://matplotlib.org/</dc:title>\r\n     </cc:Agent>\r\n    </dc:creator>\r\n   </cc:Work>\r\n  </rdf:RDF>\r\n </metadata>\r\n <defs>\r\n  <style type=\"text/css\">*{stroke-linecap:butt;stroke-linejoin:round;}</style>\r\n </defs>\r\n <g id=\"figure_1\">\r\n  <g id=\"patch_1\">\r\n   <path d=\"M 0 248.518125 \r\nL 375.2875 248.518125 \r\nL 375.2875 0 \r\nL 0 0 \r\nz\r\n\" style=\"fill:none;\"/>\r\n  </g>\r\n  <g id=\"axes_1\">\r\n   <g id=\"patch_2\">\r\n    <path d=\"M 33.2875 224.64 \r\nL 368.0875 224.64 \r\nL 368.0875 7.2 \r\nL 33.2875 7.2 \r\nz\r\n\" style=\"fill:#ffffff;\"/>\r\n   </g>\r\n   <g id=\"PathCollection_1\">\r\n    <defs>\r\n     <path d=\"M 0 3 \r\nC 0.795609 3 1.55874 2.683901 2.12132 2.12132 \r\nC 2.683901 1.55874 3 0.795609 3 0 \r\nC 3 -0.795609 2.683901 -1.55874 2.12132 -2.12132 \r\nC 1.55874 -2.683901 0.795609 -3 0 -3 \r\nC -0.795609 -3 -1.55874 -2.683901 -2.12132 -2.12132 \r\nC -2.683901 -1.55874 -3 -0.795609 -3 0 \r\nC -3 0.795609 -2.683901 1.55874 -2.12132 2.12132 \r\nC -1.55874 2.683901 -0.795609 3 0 3 \r\nz\r\n\" id=\"meefb85d815\" style=\"stroke:#1f77b4;\"/>\r\n    </defs>\r\n    <g clip-path=\"url(#p09321e5cf3)\">\r\n     <use style=\"fill:#1f77b4;stroke:#1f77b4;\" x=\"98.139795\" xlink:href=\"#meefb85d815\" y=\"214.756364\"/>\r\n     <use style=\"fill:#1f77b4;stroke:#1f77b4;\" x=\"238.984193\" xlink:href=\"#meefb85d815\" y=\"130.416015\"/>\r\n     <use style=\"fill:#1f77b4;stroke:#1f77b4;\" x=\"293.529937\" xlink:href=\"#meefb85d815\" y=\"144.556424\"/>\r\n     <use style=\"fill:#1f77b4;stroke:#1f77b4;\" x=\"198.926374\" xlink:href=\"#meefb85d815\" y=\"124.116103\"/>\r\n     <use style=\"fill:#1f77b4;stroke:#1f77b4;\" x=\"281.971646\" xlink:href=\"#meefb85d815\" y=\"88.432324\"/>\r\n     <use style=\"fill:#1f77b4;stroke:#1f77b4;\" x=\"250.530598\" xlink:href=\"#meefb85d815\" y=\"108.952632\"/>\r\n     <use style=\"fill:#1f77b4;stroke:#1f77b4;\" x=\"230.80587\" xlink:href=\"#meefb85d815\" y=\"105.698164\"/>\r\n     <use style=\"fill:#1f77b4;stroke:#1f77b4;\" x=\"143.892499\" xlink:href=\"#meefb85d815\" y=\"152.27114\"/>\r\n     <use style=\"fill:#1f77b4;stroke:#1f77b4;\" x=\"203.162936\" xlink:href=\"#meefb85d815\" y=\"115.505629\"/>\r\n     <use style=\"fill:#1f77b4;stroke:#1f77b4;\" x=\"233.082444\" xlink:href=\"#meefb85d815\" y=\"124.675221\"/>\r\n     <use style=\"fill:#1f77b4;stroke:#1f77b4;\" x=\"185.087864\" xlink:href=\"#meefb85d815\" y=\"161.384877\"/>\r\n     <use style=\"fill:#1f77b4;stroke:#1f77b4;\" x=\"245.209312\" xlink:href=\"#meefb85d815\" y=\"99.243912\"/>\r\n     <use style=\"fill:#1f77b4;stroke:#1f77b4;\" x=\"176.635766\" xlink:href=\"#meefb85d815\" y=\"145.815614\"/>\r\n     <use style=\"fill:#1f77b4;stroke:#1f77b4;\" x=\"270.900774\" xlink:href=\"#meefb85d815\" y=\"115.365417\"/>\r\n     <use style=\"fill:#1f77b4;stroke:#1f77b4;\" x=\"261.199506\" xlink:href=\"#meefb85d815\" y=\"101.616085\"/>\r\n     <use style=\"fill:#1f77b4;stroke:#1f77b4;\" x=\"208.890062\" xlink:href=\"#meefb85d815\" y=\"148.739884\"/>\r\n     <use style=\"fill:#1f77b4;stroke:#1f77b4;\" x=\"180.157113\" xlink:href=\"#meefb85d815\" y=\"98.302789\"/>\r\n     <use style=\"fill:#1f77b4;stroke:#1f77b4;\" x=\"285.230294\" xlink:href=\"#meefb85d815\" y=\"65.342112\"/>\r\n     <use style=\"fill:#1f77b4;stroke:#1f77b4;\" x=\"186.42677\" xlink:href=\"#meefb85d815\" y=\"175.760329\"/>\r\n     <use style=\"fill:#1f77b4;stroke:#1f77b4;\" x=\"140.643071\" xlink:href=\"#meefb85d815\" y=\"157.490913\"/>\r\n     <use style=\"fill:#1f77b4;stroke:#1f77b4;\" x=\"324.893168\" xlink:href=\"#meefb85d815\" y=\"96.059374\"/>\r\n     <use style=\"fill:#1f77b4;stroke:#1f77b4;\" x=\"319.684888\" xlink:href=\"#meefb85d815\" y=\"17.083636\"/>\r\n     <use style=\"fill:#1f77b4;stroke:#1f77b4;\" x=\"198.96386\" xlink:href=\"#meefb85d815\" y=\"156.638636\"/>\r\n     <use style=\"fill:#1f77b4;stroke:#1f77b4;\" x=\"159.212969\" xlink:href=\"#meefb85d815\" y=\"169.971059\"/>\r\n     <use style=\"fill:#1f77b4;stroke:#1f77b4;\" x=\"228.338187\" xlink:href=\"#meefb85d815\" y=\"115.393217\"/>\r\n     <use style=\"fill:#1f77b4;stroke:#1f77b4;\" x=\"278.993908\" xlink:href=\"#meefb85d815\" y=\"116.79262\"/>\r\n     <use style=\"fill:#1f77b4;stroke:#1f77b4;\" x=\"265.122354\" xlink:href=\"#meefb85d815\" y=\"69.721378\"/>\r\n     <use style=\"fill:#1f77b4;stroke:#1f77b4;\" x=\"307.565626\" xlink:href=\"#meefb85d815\" y=\"70.234845\"/>\r\n     <use style=\"fill:#1f77b4;stroke:#1f77b4;\" x=\"193.958695\" xlink:href=\"#meefb85d815\" y=\"107.039504\"/>\r\n     <use style=\"fill:#1f77b4;stroke:#1f77b4;\" x=\"219.665671\" xlink:href=\"#meefb85d815\" y=\"97.075204\"/>\r\n     <use style=\"fill:#1f77b4;stroke:#1f77b4;\" x=\"230.887985\" xlink:href=\"#meefb85d815\" y=\"142.744493\"/>\r\n     <use style=\"fill:#1f77b4;stroke:#1f77b4;\" x=\"118.773846\" xlink:href=\"#meefb85d815\" y=\"192.674243\"/>\r\n     <use style=\"fill:#1f77b4;stroke:#1f77b4;\" x=\"165.007321\" xlink:href=\"#meefb85d815\" y=\"112.579589\"/>\r\n     <use style=\"fill:#1f77b4;stroke:#1f77b4;\" x=\"270.874317\" xlink:href=\"#meefb85d815\" y=\"66.730692\"/>\r\n     <use style=\"fill:#1f77b4;stroke:#1f77b4;\" x=\"266.431175\" xlink:href=\"#meefb85d815\" y=\"118.342969\"/>\r\n     <use style=\"fill:#1f77b4;stroke:#1f77b4;\" x=\"185.227875\" xlink:href=\"#meefb85d815\" y=\"135.397299\"/>\r\n     <use style=\"fill:#1f77b4;stroke:#1f77b4;\" x=\"295.992605\" xlink:href=\"#meefb85d815\" y=\"109.960595\"/>\r\n     <use style=\"fill:#1f77b4;stroke:#1f77b4;\" x=\"102.121143\" xlink:href=\"#meefb85d815\" y=\"171.500298\"/>\r\n     <use style=\"fill:#1f77b4;stroke:#1f77b4;\" x=\"124.61764\" xlink:href=\"#meefb85d815\" y=\"145.552501\"/>\r\n     <use style=\"fill:#1f77b4;stroke:#1f77b4;\" x=\"132.961803\" xlink:href=\"#meefb85d815\" y=\"148.542757\"/>\r\n     <use style=\"fill:#1f77b4;stroke:#1f77b4;\" x=\"179.271384\" xlink:href=\"#meefb85d815\" y=\"167.033324\"/>\r\n     <use style=\"fill:#1f77b4;stroke:#1f77b4;\" x=\"170.942834\" xlink:href=\"#meefb85d815\" y=\"153.640005\"/>\r\n     <use style=\"fill:#1f77b4;stroke:#1f77b4;\" x=\"216.410419\" xlink:href=\"#meefb85d815\" y=\"98.272126\"/>\r\n     <use style=\"fill:#1f77b4;stroke:#1f77b4;\" x=\"174.660616\" xlink:href=\"#meefb85d815\" y=\"147.144775\"/>\r\n     <use style=\"fill:#1f77b4;stroke:#1f77b4;\" x=\"303.405271\" xlink:href=\"#meefb85d815\" y=\"24.698637\"/>\r\n     <use style=\"fill:#1f77b4;stroke:#1f77b4;\" x=\"99.261858\" xlink:href=\"#meefb85d815\" y=\"183.214934\"/>\r\n     <use style=\"fill:#1f77b4;stroke:#1f77b4;\" x=\"149.73059\" xlink:href=\"#meefb85d815\" y=\"163.845707\"/>\r\n     <use style=\"fill:#1f77b4;stroke:#1f77b4;\" x=\"239.982235\" xlink:href=\"#meefb85d815\" y=\"86.695201\"/>\r\n     <use style=\"fill:#1f77b4;stroke:#1f77b4;\" x=\"107.306661\" xlink:href=\"#meefb85d815\" y=\"166.936606\"/>\r\n     <use style=\"fill:#1f77b4;stroke:#1f77b4;\" x=\"314.913131\" xlink:href=\"#meefb85d815\" y=\"73.996195\"/>\r\n     <use style=\"fill:#1f77b4;stroke:#1f77b4;\" x=\"135.951545\" xlink:href=\"#meefb85d815\" y=\"104.505309\"/>\r\n     <use style=\"fill:#1f77b4;stroke:#1f77b4;\" x=\"178.914163\" xlink:href=\"#meefb85d815\" y=\"138.779124\"/>\r\n     <use style=\"fill:#1f77b4;stroke:#1f77b4;\" x=\"152.642724\" xlink:href=\"#meefb85d815\" y=\"137.731223\"/>\r\n     <use style=\"fill:#1f77b4;stroke:#1f77b4;\" x=\"160.189204\" xlink:href=\"#meefb85d815\" y=\"138.371477\"/>\r\n     <use style=\"fill:#1f77b4;stroke:#1f77b4;\" x=\"223.245766\" xlink:href=\"#meefb85d815\" y=\"119.820639\"/>\r\n     <use style=\"fill:#1f77b4;stroke:#1f77b4;\" x=\"250.099185\" xlink:href=\"#meefb85d815\" y=\"125.041862\"/>\r\n     <use style=\"fill:#1f77b4;stroke:#1f77b4;\" x=\"157.880778\" xlink:href=\"#meefb85d815\" y=\"106.924784\"/>\r\n     <use style=\"fill:#1f77b4;stroke:#1f77b4;\" x=\"300.020992\" xlink:href=\"#meefb85d815\" y=\"90.048545\"/>\r\n     <use style=\"fill:#1f77b4;stroke:#1f77b4;\" x=\"210.559365\" xlink:href=\"#meefb85d815\" y=\"94.093361\"/>\r\n     <use style=\"fill:#1f77b4;stroke:#1f77b4;\" x=\"156.02945\" xlink:href=\"#meefb85d815\" y=\"151.84487\"/>\r\n     <use style=\"fill:#1f77b4;stroke:#1f77b4;\" x=\"156.563433\" xlink:href=\"#meefb85d815\" y=\"146.554771\"/>\r\n     <use style=\"fill:#1f77b4;stroke:#1f77b4;\" x=\"217.172673\" xlink:href=\"#meefb85d815\" y=\"127.981609\"/>\r\n     <use style=\"fill:#1f77b4;stroke:#1f77b4;\" x=\"231.927603\" xlink:href=\"#meefb85d815\" y=\"91.009212\"/>\r\n     <use style=\"fill:#1f77b4;stroke:#1f77b4;\" x=\"216.830034\" xlink:href=\"#meefb85d815\" y=\"152.413677\"/>\r\n     <use style=\"fill:#1f77b4;stroke:#1f77b4;\" x=\"105.829127\" xlink:href=\"#meefb85d815\" y=\"127.863127\"/>\r\n     <use style=\"fill:#1f77b4;stroke:#1f77b4;\" x=\"145.631371\" xlink:href=\"#meefb85d815\" y=\"184.825948\"/>\r\n     <use style=\"fill:#1f77b4;stroke:#1f77b4;\" x=\"257.182263\" xlink:href=\"#meefb85d815\" y=\"92.374797\"/>\r\n     <use style=\"fill:#1f77b4;stroke:#1f77b4;\" x=\"265.472698\" xlink:href=\"#meefb85d815\" y=\"69.535651\"/>\r\n     <use style=\"fill:#1f77b4;stroke:#1f77b4;\" x=\"285.041067\" xlink:href=\"#meefb85d815\" y=\"127.061706\"/>\r\n     <use style=\"fill:#1f77b4;stroke:#1f77b4;\" x=\"119.516042\" xlink:href=\"#meefb85d815\" y=\"166.945159\"/>\r\n     <use style=\"fill:#1f77b4;stroke:#1f77b4;\" x=\"91.986043\" xlink:href=\"#meefb85d815\" y=\"172.24408\"/>\r\n     <use style=\"fill:#1f77b4;stroke:#1f77b4;\" x=\"240.560131\" xlink:href=\"#meefb85d815\" y=\"142.099248\"/>\r\n     <use style=\"fill:#1f77b4;stroke:#1f77b4;\" x=\"193.585854\" xlink:href=\"#meefb85d815\" y=\"122.522105\"/>\r\n     <use style=\"fill:#1f77b4;stroke:#1f77b4;\" x=\"169.526193\" xlink:href=\"#meefb85d815\" y=\"155.362986\"/>\r\n     <use style=\"fill:#1f77b4;stroke:#1f77b4;\" x=\"352.869318\" xlink:href=\"#meefb85d815\" y=\"49.695589\"/>\r\n     <use style=\"fill:#1f77b4;stroke:#1f77b4;\" x=\"178.848991\" xlink:href=\"#meefb85d815\" y=\"89.772158\"/>\r\n     <use style=\"fill:#1f77b4;stroke:#1f77b4;\" x=\"266.431752\" xlink:href=\"#meefb85d815\" y=\"78.749713\"/>\r\n     <use style=\"fill:#1f77b4;stroke:#1f77b4;\" x=\"127.94325\" xlink:href=\"#meefb85d815\" y=\"161.234755\"/>\r\n     <use style=\"fill:#1f77b4;stroke:#1f77b4;\" x=\"254.996978\" xlink:href=\"#meefb85d815\" y=\"105.906421\"/>\r\n     <use style=\"fill:#1f77b4;stroke:#1f77b4;\" x=\"141.571635\" xlink:href=\"#meefb85d815\" y=\"184.860909\"/>\r\n     <use style=\"fill:#1f77b4;stroke:#1f77b4;\" x=\"262.370761\" xlink:href=\"#meefb85d815\" y=\"104.411465\"/>\r\n     <use style=\"fill:#1f77b4;stroke:#1f77b4;\" x=\"262.153252\" xlink:href=\"#meefb85d815\" y=\"97.733448\"/>\r\n     <use style=\"fill:#1f77b4;stroke:#1f77b4;\" x=\"110.462935\" xlink:href=\"#meefb85d815\" y=\"160.115783\"/>\r\n     <use style=\"fill:#1f77b4;stroke:#1f77b4;\" x=\"276.832684\" xlink:href=\"#meefb85d815\" y=\"110.266145\"/>\r\n     <use style=\"fill:#1f77b4;stroke:#1f77b4;\" x=\"268.341299\" xlink:href=\"#meefb85d815\" y=\"61.539194\"/>\r\n     <use style=\"fill:#1f77b4;stroke:#1f77b4;\" x=\"244.742806\" xlink:href=\"#meefb85d815\" y=\"106.884249\"/>\r\n     <use style=\"fill:#1f77b4;stroke:#1f77b4;\" x=\"223.24634\" xlink:href=\"#meefb85d815\" y=\"128.5702\"/>\r\n     <use style=\"fill:#1f77b4;stroke:#1f77b4;\" x=\"217.821866\" xlink:href=\"#meefb85d815\" y=\"128.748557\"/>\r\n     <use style=\"fill:#1f77b4;stroke:#1f77b4;\" x=\"176.956787\" xlink:href=\"#meefb85d815\" y=\"119.245208\"/>\r\n     <use style=\"fill:#1f77b4;stroke:#1f77b4;\" x=\"135.18194\" xlink:href=\"#meefb85d815\" y=\"147.276289\"/>\r\n     <use style=\"fill:#1f77b4;stroke:#1f77b4;\" x=\"101.088919\" xlink:href=\"#meefb85d815\" y=\"134.07201\"/>\r\n     <use style=\"fill:#1f77b4;stroke:#1f77b4;\" x=\"240.766824\" xlink:href=\"#meefb85d815\" y=\"91.987717\"/>\r\n     <use style=\"fill:#1f77b4;stroke:#1f77b4;\" x=\"342.2319\" xlink:href=\"#meefb85d815\" y=\"25.586578\"/>\r\n     <use style=\"fill:#1f77b4;stroke:#1f77b4;\" x=\"190.548369\" xlink:href=\"#meefb85d815\" y=\"81.851181\"/>\r\n     <use style=\"fill:#1f77b4;stroke:#1f77b4;\" x=\"339.22732\" xlink:href=\"#meefb85d815\" y=\"64.113715\"/>\r\n     <use style=\"fill:#1f77b4;stroke:#1f77b4;\" x=\"216.121175\" xlink:href=\"#meefb85d815\" y=\"101.386755\"/>\r\n     <use style=\"fill:#1f77b4;stroke:#1f77b4;\" x=\"210.800862\" xlink:href=\"#meefb85d815\" y=\"122.8302\"/>\r\n     <use style=\"fill:#1f77b4;stroke:#1f77b4;\" x=\"216.184458\" xlink:href=\"#meefb85d815\" y=\"92.980119\"/>\r\n     <use style=\"fill:#1f77b4;stroke:#1f77b4;\" x=\"203.464604\" xlink:href=\"#meefb85d815\" y=\"136.223594\"/>\r\n     <use style=\"fill:#1f77b4;stroke:#1f77b4;\" x=\"48.505682\" xlink:href=\"#meefb85d815\" y=\"165.278265\"/>\r\n    </g>\r\n   </g>\r\n   <g id=\"matplotlib.axis_1\">\r\n    <g id=\"xtick_1\">\r\n     <g id=\"line2d_1\">\r\n      <defs>\r\n       <path d=\"M 0 0 \r\nL 0 3.5 \r\n\" id=\"m7a99206691\" style=\"stroke:#000000;stroke-width:0.8;\"/>\r\n      </defs>\r\n      <g>\r\n       <use style=\"stroke:#000000;stroke-width:0.8;\" x=\"81.296286\" xlink:href=\"#m7a99206691\" y=\"224.64\"/>\r\n      </g>\r\n     </g>\r\n     <g id=\"text_1\">\r\n      <!-- 30 -->\r\n      <g transform=\"translate(74.933786 239.238437)scale(0.1 -0.1)\">\r\n       <defs>\r\n        <path d=\"M 2597 2516 \r\nQ 3050 2419 3304 2112 \r\nQ 3559 1806 3559 1356 \r\nQ 3559 666 3084 287 \r\nQ 2609 -91 1734 -91 \r\nQ 1441 -91 1130 -33 \r\nQ 819 25 488 141 \r\nL 488 750 \r\nQ 750 597 1062 519 \r\nQ 1375 441 1716 441 \r\nQ 2309 441 2620 675 \r\nQ 2931 909 2931 1356 \r\nQ 2931 1769 2642 2001 \r\nQ 2353 2234 1838 2234 \r\nL 1294 2234 \r\nL 1294 2753 \r\nL 1863 2753 \r\nQ 2328 2753 2575 2939 \r\nQ 2822 3125 2822 3475 \r\nQ 2822 3834 2567 4026 \r\nQ 2313 4219 1838 4219 \r\nQ 1578 4219 1281 4162 \r\nQ 984 4106 628 3988 \r\nL 628 4550 \r\nQ 988 4650 1302 4700 \r\nQ 1616 4750 1894 4750 \r\nQ 2613 4750 3031 4423 \r\nQ 3450 4097 3450 3541 \r\nQ 3450 3153 3228 2886 \r\nQ 3006 2619 2597 2516 \r\nz\r\n\" id=\"DejaVuSans-33\" transform=\"scale(0.015625)\"/>\r\n        <path d=\"M 2034 4250 \r\nQ 1547 4250 1301 3770 \r\nQ 1056 3291 1056 2328 \r\nQ 1056 1369 1301 889 \r\nQ 1547 409 2034 409 \r\nQ 2525 409 2770 889 \r\nQ 3016 1369 3016 2328 \r\nQ 3016 3291 2770 3770 \r\nQ 2525 4250 2034 4250 \r\nz\r\nM 2034 4750 \r\nQ 2819 4750 3233 4129 \r\nQ 3647 3509 3647 2328 \r\nQ 3647 1150 3233 529 \r\nQ 2819 -91 2034 -91 \r\nQ 1250 -91 836 529 \r\nQ 422 1150 422 2328 \r\nQ 422 3509 836 4129 \r\nQ 1250 4750 2034 4750 \r\nz\r\n\" id=\"DejaVuSans-30\" transform=\"scale(0.015625)\"/>\r\n       </defs>\r\n       <use xlink:href=\"#DejaVuSans-33\"/>\r\n       <use x=\"63.623047\" xlink:href=\"#DejaVuSans-30\"/>\r\n      </g>\r\n     </g>\r\n    </g>\r\n    <g id=\"xtick_2\">\r\n     <g id=\"line2d_2\">\r\n      <g>\r\n       <use style=\"stroke:#000000;stroke-width:0.8;\" x=\"148.607178\" xlink:href=\"#m7a99206691\" y=\"224.64\"/>\r\n      </g>\r\n     </g>\r\n     <g id=\"text_2\">\r\n      <!-- 40 -->\r\n      <g transform=\"translate(142.244678 239.238437)scale(0.1 -0.1)\">\r\n       <defs>\r\n        <path d=\"M 2419 4116 \r\nL 825 1625 \r\nL 2419 1625 \r\nL 2419 4116 \r\nz\r\nM 2253 4666 \r\nL 3047 4666 \r\nL 3047 1625 \r\nL 3713 1625 \r\nL 3713 1100 \r\nL 3047 1100 \r\nL 3047 0 \r\nL 2419 0 \r\nL 2419 1100 \r\nL 313 1100 \r\nL 313 1709 \r\nL 2253 4666 \r\nz\r\n\" id=\"DejaVuSans-34\" transform=\"scale(0.015625)\"/>\r\n       </defs>\r\n       <use xlink:href=\"#DejaVuSans-34\"/>\r\n       <use x=\"63.623047\" xlink:href=\"#DejaVuSans-30\"/>\r\n      </g>\r\n     </g>\r\n    </g>\r\n    <g id=\"xtick_3\">\r\n     <g id=\"line2d_3\">\r\n      <g>\r\n       <use style=\"stroke:#000000;stroke-width:0.8;\" x=\"215.918069\" xlink:href=\"#m7a99206691\" y=\"224.64\"/>\r\n      </g>\r\n     </g>\r\n     <g id=\"text_3\">\r\n      <!-- 50 -->\r\n      <g transform=\"translate(209.555569 239.238437)scale(0.1 -0.1)\">\r\n       <defs>\r\n        <path d=\"M 691 4666 \r\nL 3169 4666 \r\nL 3169 4134 \r\nL 1269 4134 \r\nL 1269 2991 \r\nQ 1406 3038 1543 3061 \r\nQ 1681 3084 1819 3084 \r\nQ 2600 3084 3056 2656 \r\nQ 3513 2228 3513 1497 \r\nQ 3513 744 3044 326 \r\nQ 2575 -91 1722 -91 \r\nQ 1428 -91 1123 -41 \r\nQ 819 9 494 109 \r\nL 494 744 \r\nQ 775 591 1075 516 \r\nQ 1375 441 1709 441 \r\nQ 2250 441 2565 725 \r\nQ 2881 1009 2881 1497 \r\nQ 2881 1984 2565 2268 \r\nQ 2250 2553 1709 2553 \r\nQ 1456 2553 1204 2497 \r\nQ 953 2441 691 2322 \r\nL 691 4666 \r\nz\r\n\" id=\"DejaVuSans-35\" transform=\"scale(0.015625)\"/>\r\n       </defs>\r\n       <use xlink:href=\"#DejaVuSans-35\"/>\r\n       <use x=\"63.623047\" xlink:href=\"#DejaVuSans-30\"/>\r\n      </g>\r\n     </g>\r\n    </g>\r\n    <g id=\"xtick_4\">\r\n     <g id=\"line2d_4\">\r\n      <g>\r\n       <use style=\"stroke:#000000;stroke-width:0.8;\" x=\"283.228961\" xlink:href=\"#m7a99206691\" y=\"224.64\"/>\r\n      </g>\r\n     </g>\r\n     <g id=\"text_4\">\r\n      <!-- 60 -->\r\n      <g transform=\"translate(276.866461 239.238437)scale(0.1 -0.1)\">\r\n       <defs>\r\n        <path d=\"M 2113 2584 \r\nQ 1688 2584 1439 2293 \r\nQ 1191 2003 1191 1497 \r\nQ 1191 994 1439 701 \r\nQ 1688 409 2113 409 \r\nQ 2538 409 2786 701 \r\nQ 3034 994 3034 1497 \r\nQ 3034 2003 2786 2293 \r\nQ 2538 2584 2113 2584 \r\nz\r\nM 3366 4563 \r\nL 3366 3988 \r\nQ 3128 4100 2886 4159 \r\nQ 2644 4219 2406 4219 \r\nQ 1781 4219 1451 3797 \r\nQ 1122 3375 1075 2522 \r\nQ 1259 2794 1537 2939 \r\nQ 1816 3084 2150 3084 \r\nQ 2853 3084 3261 2657 \r\nQ 3669 2231 3669 1497 \r\nQ 3669 778 3244 343 \r\nQ 2819 -91 2113 -91 \r\nQ 1303 -91 875 529 \r\nQ 447 1150 447 2328 \r\nQ 447 3434 972 4092 \r\nQ 1497 4750 2381 4750 \r\nQ 2619 4750 2861 4703 \r\nQ 3103 4656 3366 4563 \r\nz\r\n\" id=\"DejaVuSans-36\" transform=\"scale(0.015625)\"/>\r\n       </defs>\r\n       <use xlink:href=\"#DejaVuSans-36\"/>\r\n       <use x=\"63.623047\" xlink:href=\"#DejaVuSans-30\"/>\r\n      </g>\r\n     </g>\r\n    </g>\r\n    <g id=\"xtick_5\">\r\n     <g id=\"line2d_5\">\r\n      <g>\r\n       <use style=\"stroke:#000000;stroke-width:0.8;\" x=\"350.539852\" xlink:href=\"#m7a99206691\" y=\"224.64\"/>\r\n      </g>\r\n     </g>\r\n     <g id=\"text_5\">\r\n      <!-- 70 -->\r\n      <g transform=\"translate(344.177352 239.238437)scale(0.1 -0.1)\">\r\n       <defs>\r\n        <path d=\"M 525 4666 \r\nL 3525 4666 \r\nL 3525 4397 \r\nL 1831 0 \r\nL 1172 0 \r\nL 2766 4134 \r\nL 525 4134 \r\nL 525 4666 \r\nz\r\n\" id=\"DejaVuSans-37\" transform=\"scale(0.015625)\"/>\r\n       </defs>\r\n       <use xlink:href=\"#DejaVuSans-37\"/>\r\n       <use x=\"63.623047\" xlink:href=\"#DejaVuSans-30\"/>\r\n      </g>\r\n     </g>\r\n    </g>\r\n   </g>\r\n   <g id=\"matplotlib.axis_2\">\r\n    <g id=\"ytick_1\">\r\n     <g id=\"line2d_6\">\r\n      <defs>\r\n       <path d=\"M 0 0 \r\nL -3.5 0 \r\n\" id=\"m26ddf10f70\" style=\"stroke:#000000;stroke-width:0.8;\"/>\r\n      </defs>\r\n      <g>\r\n       <use style=\"stroke:#000000;stroke-width:0.8;\" x=\"33.2875\" xlink:href=\"#m26ddf10f70\" y=\"195.888738\"/>\r\n      </g>\r\n     </g>\r\n     <g id=\"text_6\">\r\n      <!-- 40 -->\r\n      <g transform=\"translate(13.5625 199.687957)scale(0.1 -0.1)\">\r\n       <use xlink:href=\"#DejaVuSans-34\"/>\r\n       <use x=\"63.623047\" xlink:href=\"#DejaVuSans-30\"/>\r\n      </g>\r\n     </g>\r\n    </g>\r\n    <g id=\"ytick_2\">\r\n     <g id=\"line2d_7\">\r\n      <g>\r\n       <use style=\"stroke:#000000;stroke-width:0.8;\" x=\"33.2875\" xlink:href=\"#m26ddf10f70\" y=\"150.386172\"/>\r\n      </g>\r\n     </g>\r\n     <g id=\"text_7\">\r\n      <!-- 60 -->\r\n      <g transform=\"translate(13.5625 154.185391)scale(0.1 -0.1)\">\r\n       <use xlink:href=\"#DejaVuSans-36\"/>\r\n       <use x=\"63.623047\" xlink:href=\"#DejaVuSans-30\"/>\r\n      </g>\r\n     </g>\r\n    </g>\r\n    <g id=\"ytick_3\">\r\n     <g id=\"line2d_8\">\r\n      <g>\r\n       <use style=\"stroke:#000000;stroke-width:0.8;\" x=\"33.2875\" xlink:href=\"#m26ddf10f70\" y=\"104.883607\"/>\r\n      </g>\r\n     </g>\r\n     <g id=\"text_8\">\r\n      <!-- 80 -->\r\n      <g transform=\"translate(13.5625 108.682825)scale(0.1 -0.1)\">\r\n       <defs>\r\n        <path d=\"M 2034 2216 \r\nQ 1584 2216 1326 1975 \r\nQ 1069 1734 1069 1313 \r\nQ 1069 891 1326 650 \r\nQ 1584 409 2034 409 \r\nQ 2484 409 2743 651 \r\nQ 3003 894 3003 1313 \r\nQ 3003 1734 2745 1975 \r\nQ 2488 2216 2034 2216 \r\nz\r\nM 1403 2484 \r\nQ 997 2584 770 2862 \r\nQ 544 3141 544 3541 \r\nQ 544 4100 942 4425 \r\nQ 1341 4750 2034 4750 \r\nQ 2731 4750 3128 4425 \r\nQ 3525 4100 3525 3541 \r\nQ 3525 3141 3298 2862 \r\nQ 3072 2584 2669 2484 \r\nQ 3125 2378 3379 2068 \r\nQ 3634 1759 3634 1313 \r\nQ 3634 634 3220 271 \r\nQ 2806 -91 2034 -91 \r\nQ 1263 -91 848 271 \r\nQ 434 634 434 1313 \r\nQ 434 1759 690 2068 \r\nQ 947 2378 1403 2484 \r\nz\r\nM 1172 3481 \r\nQ 1172 3119 1398 2916 \r\nQ 1625 2713 2034 2713 \r\nQ 2441 2713 2670 2916 \r\nQ 2900 3119 2900 3481 \r\nQ 2900 3844 2670 4047 \r\nQ 2441 4250 2034 4250 \r\nQ 1625 4250 1398 4047 \r\nQ 1172 3844 1172 3481 \r\nz\r\n\" id=\"DejaVuSans-38\" transform=\"scale(0.015625)\"/>\r\n       </defs>\r\n       <use xlink:href=\"#DejaVuSans-38\"/>\r\n       <use x=\"63.623047\" xlink:href=\"#DejaVuSans-30\"/>\r\n      </g>\r\n     </g>\r\n    </g>\r\n    <g id=\"ytick_4\">\r\n     <g id=\"line2d_9\">\r\n      <g>\r\n       <use style=\"stroke:#000000;stroke-width:0.8;\" x=\"33.2875\" xlink:href=\"#m26ddf10f70\" y=\"59.381041\"/>\r\n      </g>\r\n     </g>\r\n     <g id=\"text_9\">\r\n      <!-- 100 -->\r\n      <g transform=\"translate(7.2 63.18026)scale(0.1 -0.1)\">\r\n       <defs>\r\n        <path d=\"M 794 531 \r\nL 1825 531 \r\nL 1825 4091 \r\nL 703 3866 \r\nL 703 4441 \r\nL 1819 4666 \r\nL 2450 4666 \r\nL 2450 531 \r\nL 3481 531 \r\nL 3481 0 \r\nL 794 0 \r\nL 794 531 \r\nz\r\n\" id=\"DejaVuSans-31\" transform=\"scale(0.015625)\"/>\r\n       </defs>\r\n       <use xlink:href=\"#DejaVuSans-31\"/>\r\n       <use x=\"63.623047\" xlink:href=\"#DejaVuSans-30\"/>\r\n       <use x=\"127.246094\" xlink:href=\"#DejaVuSans-30\"/>\r\n      </g>\r\n     </g>\r\n    </g>\r\n    <g id=\"ytick_5\">\r\n     <g id=\"line2d_10\">\r\n      <g>\r\n       <use style=\"stroke:#000000;stroke-width:0.8;\" x=\"33.2875\" xlink:href=\"#m26ddf10f70\" y=\"13.878475\"/>\r\n      </g>\r\n     </g>\r\n     <g id=\"text_10\">\r\n      <!-- 120 -->\r\n      <g transform=\"translate(7.2 17.677694)scale(0.1 -0.1)\">\r\n       <defs>\r\n        <path d=\"M 1228 531 \r\nL 3431 531 \r\nL 3431 0 \r\nL 469 0 \r\nL 469 531 \r\nQ 828 903 1448 1529 \r\nQ 2069 2156 2228 2338 \r\nQ 2531 2678 2651 2914 \r\nQ 2772 3150 2772 3378 \r\nQ 2772 3750 2511 3984 \r\nQ 2250 4219 1831 4219 \r\nQ 1534 4219 1204 4116 \r\nQ 875 4013 500 3803 \r\nL 500 4441 \r\nQ 881 4594 1212 4672 \r\nQ 1544 4750 1819 4750 \r\nQ 2544 4750 2975 4387 \r\nQ 3406 4025 3406 3419 \r\nQ 3406 3131 3298 2873 \r\nQ 3191 2616 2906 2266 \r\nQ 2828 2175 2409 1742 \r\nQ 1991 1309 1228 531 \r\nz\r\n\" id=\"DejaVuSans-32\" transform=\"scale(0.015625)\"/>\r\n       </defs>\r\n       <use xlink:href=\"#DejaVuSans-31\"/>\r\n       <use x=\"63.623047\" xlink:href=\"#DejaVuSans-32\"/>\r\n       <use x=\"127.246094\" xlink:href=\"#DejaVuSans-30\"/>\r\n      </g>\r\n     </g>\r\n    </g>\r\n   </g>\r\n   <g id=\"patch_3\">\r\n    <path d=\"M 33.2875 224.64 \r\nL 33.2875 7.2 \r\n\" style=\"fill:none;stroke:#000000;stroke-linecap:square;stroke-linejoin:miter;stroke-width:0.8;\"/>\r\n   </g>\r\n   <g id=\"patch_4\">\r\n    <path d=\"M 368.0875 224.64 \r\nL 368.0875 7.2 \r\n\" style=\"fill:none;stroke:#000000;stroke-linecap:square;stroke-linejoin:miter;stroke-width:0.8;\"/>\r\n   </g>\r\n   <g id=\"patch_5\">\r\n    <path d=\"M 33.2875 224.64 \r\nL 368.0875 224.64 \r\n\" style=\"fill:none;stroke:#000000;stroke-linecap:square;stroke-linejoin:miter;stroke-width:0.8;\"/>\r\n   </g>\r\n   <g id=\"patch_6\">\r\n    <path d=\"M 33.2875 7.2 \r\nL 368.0875 7.2 \r\n\" style=\"fill:none;stroke:#000000;stroke-linecap:square;stroke-linejoin:miter;stroke-width:0.8;\"/>\r\n   </g>\r\n  </g>\r\n </g>\r\n <defs>\r\n  <clipPath id=\"p09321e5cf3\">\r\n   <rect height=\"217.44\" width=\"334.8\" x=\"33.2875\" y=\"7.2\"/>\r\n  </clipPath>\r\n </defs>\r\n</svg>\r\n",
      "image/png": "[encoded data removed]"
     },
     "metadata": {
      "needs_background": "light"
     }
    }
   ],
   "metadata": {
    "deletable": false,
    "nbgrader": {
     "checksum": "ec83d674d316f06d99e4a62881fe0d91",
     "grade": false,
     "grade_id": "cell-7f576e50392bc5e9",
     "locked": false,
     "schema_version": 3,
     "solution": true,
     "task": false
    }
   }
  },
  {
   "cell_type": "code",
   "execution_count": 9,
   "source": [
    "# YOUR CODE HERE\r\n",
    "x_train = df.X[0:80]\r\n",
    "x_test = df.X[80:]\r\n",
    "y_train = df.Y[0:80]\r\n",
    "y_test = df.Y[80:]\r\n"
   ],
   "outputs": [],
   "metadata": {
    "deletable": false,
    "nbgrader": {
     "checksum": "d16bf3084328cb8a753640746109deb6",
     "grade": false,
     "grade_id": "cell-54891567ed3179cb",
     "locked": false,
     "schema_version": 3,
     "solution": true,
     "task": false
    }
   }
  },
  {
   "cell_type": "code",
   "execution_count": 10,
   "source": [
    "assert x_train.shape == (80,)\r\n",
    "assert x_test.shape == (20,)\r\n",
    "assert y_train.shape == (80,)\r\n",
    "assert y_test.shape == (20,)"
   ],
   "outputs": [],
   "metadata": {
    "deletable": false,
    "editable": false,
    "nbgrader": {
     "checksum": "913a83d14800f18572c1736c6c376038",
     "grade": true,
     "grade_id": "cell-161d857ab77810d3",
     "locked": true,
     "points": 1,
     "schema_version": 3,
     "solution": false,
     "task": false
    }
   }
  },
  {
   "cell_type": "code",
   "execution_count": 127,
   "source": [
    "#implement a least squares function to find a, b\r\n",
    "\r\n",
    "\"\"\"x_mean = 0\r\n",
    "y_mean = 0\r\n",
    "b_upper = 0\r\n",
    "b_lower = 0\r\n",
    "b = 0\r\n",
    "a = 0\r\n",
    "print(b)\r\n",
    "print(a)\r\n",
    "\"\"\"\r\n",
    "\r\n",
    "# YOUR CODE HERE\r\n",
    "\r\n",
    "x_mean = df.X.mean()\r\n",
    "y_mean = df.Y.mean()\r\n",
    "\r\n",
    "\r\n",
    "xi = df.X-x_mean\r\n",
    "yi = df.Y-y_mean\r\n",
    "\r\n",
    "b = sum(xi*yi) / sum(xi**2)\r\n",
    "\r\n",
    "a = y_mean - b*x_mean\r\n",
    "\r\n",
    "\r\n",
    "df[\"y\"] = a + b*df.X\r\n",
    "\r\n",
    "plt.scatter(df.X,df.Y)\r\n",
    "plt.plot(df.X,df[\"y\"], color=\"red\")\r\n",
    "\r\n",
    "\r\n"
   ],
   "outputs": [
    {
     "output_type": "execute_result",
     "data": {
      "text/plain": [
       "[<matplotlib.lines.Line2D at 0x1399c3d5b20>]"
      ]
     },
     "metadata": {},
     "execution_count": 127
    },
    {
     "output_type": "display_data",
     "data": {
      "text/plain": [
       "<Figure size 432x288 with 1 Axes>"
      ],
      "image/svg+xml": "<?xml version=\"1.0\" encoding=\"utf-8\" standalone=\"no\"?>\r\n<!DOCTYPE svg PUBLIC \"-//W3C//DTD SVG 1.1//EN\"\r\n  \"http://www.w3.org/Graphics/SVG/1.1/DTD/svg11.dtd\">\r\n<svg height=\"248.518125pt\" version=\"1.1\" viewBox=\"0 0 375.2875 248.518125\" width=\"375.2875pt\" xmlns=\"http://www.w3.org/2000/svg\" xmlns:xlink=\"http://www.w3.org/1999/xlink\">\r\n <metadata>\r\n  <rdf:RDF xmlns:cc=\"http://creativecommons.org/ns#\" xmlns:dc=\"http://purl.org/dc/elements/1.1/\" xmlns:rdf=\"http://www.w3.org/1999/02/22-rdf-syntax-ns#\">\r\n   <cc:Work>\r\n    <dc:type rdf:resource=\"http://purl.org/dc/dcmitype/StillImage\"/>\r\n    <dc:date>2021-08-17T14:02:01.055524</dc:date>\r\n    <dc:format>image/svg+xml</dc:format>\r\n    <dc:creator>\r\n     <cc:Agent>\r\n      <dc:title>Matplotlib v3.4.3, https://matplotlib.org/</dc:title>\r\n     </cc:Agent>\r\n    </dc:creator>\r\n   </cc:Work>\r\n  </rdf:RDF>\r\n </metadata>\r\n <defs>\r\n  <style type=\"text/css\">*{stroke-linecap:butt;stroke-linejoin:round;}</style>\r\n </defs>\r\n <g id=\"figure_1\">\r\n  <g id=\"patch_1\">\r\n   <path d=\"M 0 248.518125 \r\nL 375.2875 248.518125 \r\nL 375.2875 0 \r\nL 0 0 \r\nz\r\n\" style=\"fill:none;\"/>\r\n  </g>\r\n  <g id=\"axes_1\">\r\n   <g id=\"patch_2\">\r\n    <path d=\"M 33.2875 224.64 \r\nL 368.0875 224.64 \r\nL 368.0875 7.2 \r\nL 33.2875 7.2 \r\nz\r\n\" style=\"fill:#ffffff;\"/>\r\n   </g>\r\n   <g id=\"PathCollection_1\">\r\n    <defs>\r\n     <path d=\"M 0 3 \r\nC 0.795609 3 1.55874 2.683901 2.12132 2.12132 \r\nC 2.683901 1.55874 3 0.795609 3 0 \r\nC 3 -0.795609 2.683901 -1.55874 2.12132 -2.12132 \r\nC 1.55874 -2.683901 0.795609 -3 0 -3 \r\nC -0.795609 -3 -1.55874 -2.683901 -2.12132 -2.12132 \r\nC -2.683901 -1.55874 -3 -0.795609 -3 0 \r\nC -3 0.795609 -2.683901 1.55874 -2.12132 2.12132 \r\nC -1.55874 2.683901 -0.795609 3 0 3 \r\nz\r\n\" id=\"mb7c9e40ef3\" style=\"stroke:#1f77b4;\"/>\r\n    </defs>\r\n    <g clip-path=\"url(#pda2e6a7190)\">\r\n     <use style=\"fill:#1f77b4;stroke:#1f77b4;\" x=\"98.139795\" xlink:href=\"#mb7c9e40ef3\" y=\"214.756364\"/>\r\n     <use style=\"fill:#1f77b4;stroke:#1f77b4;\" x=\"238.984193\" xlink:href=\"#mb7c9e40ef3\" y=\"130.416015\"/>\r\n     <use style=\"fill:#1f77b4;stroke:#1f77b4;\" x=\"293.529937\" xlink:href=\"#mb7c9e40ef3\" y=\"144.556424\"/>\r\n     <use style=\"fill:#1f77b4;stroke:#1f77b4;\" x=\"198.926374\" xlink:href=\"#mb7c9e40ef3\" y=\"124.116103\"/>\r\n     <use style=\"fill:#1f77b4;stroke:#1f77b4;\" x=\"281.971646\" xlink:href=\"#mb7c9e40ef3\" y=\"88.432324\"/>\r\n     <use style=\"fill:#1f77b4;stroke:#1f77b4;\" x=\"250.530598\" xlink:href=\"#mb7c9e40ef3\" y=\"108.952632\"/>\r\n     <use style=\"fill:#1f77b4;stroke:#1f77b4;\" x=\"230.80587\" xlink:href=\"#mb7c9e40ef3\" y=\"105.698164\"/>\r\n     <use style=\"fill:#1f77b4;stroke:#1f77b4;\" x=\"143.892499\" xlink:href=\"#mb7c9e40ef3\" y=\"152.27114\"/>\r\n     <use style=\"fill:#1f77b4;stroke:#1f77b4;\" x=\"203.162936\" xlink:href=\"#mb7c9e40ef3\" y=\"115.505629\"/>\r\n     <use style=\"fill:#1f77b4;stroke:#1f77b4;\" x=\"233.082444\" xlink:href=\"#mb7c9e40ef3\" y=\"124.675221\"/>\r\n     <use style=\"fill:#1f77b4;stroke:#1f77b4;\" x=\"185.087864\" xlink:href=\"#mb7c9e40ef3\" y=\"161.384877\"/>\r\n     <use style=\"fill:#1f77b4;stroke:#1f77b4;\" x=\"245.209312\" xlink:href=\"#mb7c9e40ef3\" y=\"99.243912\"/>\r\n     <use style=\"fill:#1f77b4;stroke:#1f77b4;\" x=\"176.635766\" xlink:href=\"#mb7c9e40ef3\" y=\"145.815614\"/>\r\n     <use style=\"fill:#1f77b4;stroke:#1f77b4;\" x=\"270.900774\" xlink:href=\"#mb7c9e40ef3\" y=\"115.365417\"/>\r\n     <use style=\"fill:#1f77b4;stroke:#1f77b4;\" x=\"261.199506\" xlink:href=\"#mb7c9e40ef3\" y=\"101.616085\"/>\r\n     <use style=\"fill:#1f77b4;stroke:#1f77b4;\" x=\"208.890062\" xlink:href=\"#mb7c9e40ef3\" y=\"148.739884\"/>\r\n     <use style=\"fill:#1f77b4;stroke:#1f77b4;\" x=\"180.157113\" xlink:href=\"#mb7c9e40ef3\" y=\"98.302789\"/>\r\n     <use style=\"fill:#1f77b4;stroke:#1f77b4;\" x=\"285.230294\" xlink:href=\"#mb7c9e40ef3\" y=\"65.342112\"/>\r\n     <use style=\"fill:#1f77b4;stroke:#1f77b4;\" x=\"186.42677\" xlink:href=\"#mb7c9e40ef3\" y=\"175.760329\"/>\r\n     <use style=\"fill:#1f77b4;stroke:#1f77b4;\" x=\"140.643071\" xlink:href=\"#mb7c9e40ef3\" y=\"157.490913\"/>\r\n     <use style=\"fill:#1f77b4;stroke:#1f77b4;\" x=\"324.893168\" xlink:href=\"#mb7c9e40ef3\" y=\"96.059374\"/>\r\n     <use style=\"fill:#1f77b4;stroke:#1f77b4;\" x=\"319.684888\" xlink:href=\"#mb7c9e40ef3\" y=\"17.083636\"/>\r\n     <use style=\"fill:#1f77b4;stroke:#1f77b4;\" x=\"198.96386\" xlink:href=\"#mb7c9e40ef3\" y=\"156.638636\"/>\r\n     <use style=\"fill:#1f77b4;stroke:#1f77b4;\" x=\"159.212969\" xlink:href=\"#mb7c9e40ef3\" y=\"169.971059\"/>\r\n     <use style=\"fill:#1f77b4;stroke:#1f77b4;\" x=\"228.338187\" xlink:href=\"#mb7c9e40ef3\" y=\"115.393217\"/>\r\n     <use style=\"fill:#1f77b4;stroke:#1f77b4;\" x=\"278.993908\" xlink:href=\"#mb7c9e40ef3\" y=\"116.79262\"/>\r\n     <use style=\"fill:#1f77b4;stroke:#1f77b4;\" x=\"265.122354\" xlink:href=\"#mb7c9e40ef3\" y=\"69.721378\"/>\r\n     <use style=\"fill:#1f77b4;stroke:#1f77b4;\" x=\"307.565626\" xlink:href=\"#mb7c9e40ef3\" y=\"70.234845\"/>\r\n     <use style=\"fill:#1f77b4;stroke:#1f77b4;\" x=\"193.958695\" xlink:href=\"#mb7c9e40ef3\" y=\"107.039504\"/>\r\n     <use style=\"fill:#1f77b4;stroke:#1f77b4;\" x=\"219.665671\" xlink:href=\"#mb7c9e40ef3\" y=\"97.075204\"/>\r\n     <use style=\"fill:#1f77b4;stroke:#1f77b4;\" x=\"230.887985\" xlink:href=\"#mb7c9e40ef3\" y=\"142.744493\"/>\r\n     <use style=\"fill:#1f77b4;stroke:#1f77b4;\" x=\"118.773846\" xlink:href=\"#mb7c9e40ef3\" y=\"192.674243\"/>\r\n     <use style=\"fill:#1f77b4;stroke:#1f77b4;\" x=\"165.007321\" xlink:href=\"#mb7c9e40ef3\" y=\"112.579589\"/>\r\n     <use style=\"fill:#1f77b4;stroke:#1f77b4;\" x=\"270.874317\" xlink:href=\"#mb7c9e40ef3\" y=\"66.730692\"/>\r\n     <use style=\"fill:#1f77b4;stroke:#1f77b4;\" x=\"266.431175\" xlink:href=\"#mb7c9e40ef3\" y=\"118.342969\"/>\r\n     <use style=\"fill:#1f77b4;stroke:#1f77b4;\" x=\"185.227875\" xlink:href=\"#mb7c9e40ef3\" y=\"135.397299\"/>\r\n     <use style=\"fill:#1f77b4;stroke:#1f77b4;\" x=\"295.992605\" xlink:href=\"#mb7c9e40ef3\" y=\"109.960595\"/>\r\n     <use style=\"fill:#1f77b4;stroke:#1f77b4;\" x=\"102.121143\" xlink:href=\"#mb7c9e40ef3\" y=\"171.500298\"/>\r\n     <use style=\"fill:#1f77b4;stroke:#1f77b4;\" x=\"124.61764\" xlink:href=\"#mb7c9e40ef3\" y=\"145.552501\"/>\r\n     <use style=\"fill:#1f77b4;stroke:#1f77b4;\" x=\"132.961803\" xlink:href=\"#mb7c9e40ef3\" y=\"148.542757\"/>\r\n     <use style=\"fill:#1f77b4;stroke:#1f77b4;\" x=\"179.271384\" xlink:href=\"#mb7c9e40ef3\" y=\"167.033324\"/>\r\n     <use style=\"fill:#1f77b4;stroke:#1f77b4;\" x=\"170.942834\" xlink:href=\"#mb7c9e40ef3\" y=\"153.640005\"/>\r\n     <use style=\"fill:#1f77b4;stroke:#1f77b4;\" x=\"216.410419\" xlink:href=\"#mb7c9e40ef3\" y=\"98.272126\"/>\r\n     <use style=\"fill:#1f77b4;stroke:#1f77b4;\" x=\"174.660616\" xlink:href=\"#mb7c9e40ef3\" y=\"147.144775\"/>\r\n     <use style=\"fill:#1f77b4;stroke:#1f77b4;\" x=\"303.405271\" xlink:href=\"#mb7c9e40ef3\" y=\"24.698637\"/>\r\n     <use style=\"fill:#1f77b4;stroke:#1f77b4;\" x=\"99.261858\" xlink:href=\"#mb7c9e40ef3\" y=\"183.214934\"/>\r\n     <use style=\"fill:#1f77b4;stroke:#1f77b4;\" x=\"149.73059\" xlink:href=\"#mb7c9e40ef3\" y=\"163.845707\"/>\r\n     <use style=\"fill:#1f77b4;stroke:#1f77b4;\" x=\"239.982235\" xlink:href=\"#mb7c9e40ef3\" y=\"86.695201\"/>\r\n     <use style=\"fill:#1f77b4;stroke:#1f77b4;\" x=\"107.306661\" xlink:href=\"#mb7c9e40ef3\" y=\"166.936606\"/>\r\n     <use style=\"fill:#1f77b4;stroke:#1f77b4;\" x=\"314.913131\" xlink:href=\"#mb7c9e40ef3\" y=\"73.996195\"/>\r\n     <use style=\"fill:#1f77b4;stroke:#1f77b4;\" x=\"135.951545\" xlink:href=\"#mb7c9e40ef3\" y=\"104.505309\"/>\r\n     <use style=\"fill:#1f77b4;stroke:#1f77b4;\" x=\"178.914163\" xlink:href=\"#mb7c9e40ef3\" y=\"138.779124\"/>\r\n     <use style=\"fill:#1f77b4;stroke:#1f77b4;\" x=\"152.642724\" xlink:href=\"#mb7c9e40ef3\" y=\"137.731223\"/>\r\n     <use style=\"fill:#1f77b4;stroke:#1f77b4;\" x=\"160.189204\" xlink:href=\"#mb7c9e40ef3\" y=\"138.371477\"/>\r\n     <use style=\"fill:#1f77b4;stroke:#1f77b4;\" x=\"223.245766\" xlink:href=\"#mb7c9e40ef3\" y=\"119.820639\"/>\r\n     <use style=\"fill:#1f77b4;stroke:#1f77b4;\" x=\"250.099185\" xlink:href=\"#mb7c9e40ef3\" y=\"125.041862\"/>\r\n     <use style=\"fill:#1f77b4;stroke:#1f77b4;\" x=\"157.880778\" xlink:href=\"#mb7c9e40ef3\" y=\"106.924784\"/>\r\n     <use style=\"fill:#1f77b4;stroke:#1f77b4;\" x=\"300.020992\" xlink:href=\"#mb7c9e40ef3\" y=\"90.048545\"/>\r\n     <use style=\"fill:#1f77b4;stroke:#1f77b4;\" x=\"210.559365\" xlink:href=\"#mb7c9e40ef3\" y=\"94.093361\"/>\r\n     <use style=\"fill:#1f77b4;stroke:#1f77b4;\" x=\"156.02945\" xlink:href=\"#mb7c9e40ef3\" y=\"151.84487\"/>\r\n     <use style=\"fill:#1f77b4;stroke:#1f77b4;\" x=\"156.563433\" xlink:href=\"#mb7c9e40ef3\" y=\"146.554771\"/>\r\n     <use style=\"fill:#1f77b4;stroke:#1f77b4;\" x=\"217.172673\" xlink:href=\"#mb7c9e40ef3\" y=\"127.981609\"/>\r\n     <use style=\"fill:#1f77b4;stroke:#1f77b4;\" x=\"231.927603\" xlink:href=\"#mb7c9e40ef3\" y=\"91.009212\"/>\r\n     <use style=\"fill:#1f77b4;stroke:#1f77b4;\" x=\"216.830034\" xlink:href=\"#mb7c9e40ef3\" y=\"152.413677\"/>\r\n     <use style=\"fill:#1f77b4;stroke:#1f77b4;\" x=\"105.829127\" xlink:href=\"#mb7c9e40ef3\" y=\"127.863127\"/>\r\n     <use style=\"fill:#1f77b4;stroke:#1f77b4;\" x=\"145.631371\" xlink:href=\"#mb7c9e40ef3\" y=\"184.825948\"/>\r\n     <use style=\"fill:#1f77b4;stroke:#1f77b4;\" x=\"257.182263\" xlink:href=\"#mb7c9e40ef3\" y=\"92.374797\"/>\r\n     <use style=\"fill:#1f77b4;stroke:#1f77b4;\" x=\"265.472698\" xlink:href=\"#mb7c9e40ef3\" y=\"69.535651\"/>\r\n     <use style=\"fill:#1f77b4;stroke:#1f77b4;\" x=\"285.041067\" xlink:href=\"#mb7c9e40ef3\" y=\"127.061706\"/>\r\n     <use style=\"fill:#1f77b4;stroke:#1f77b4;\" x=\"119.516042\" xlink:href=\"#mb7c9e40ef3\" y=\"166.945159\"/>\r\n     <use style=\"fill:#1f77b4;stroke:#1f77b4;\" x=\"91.986043\" xlink:href=\"#mb7c9e40ef3\" y=\"172.24408\"/>\r\n     <use style=\"fill:#1f77b4;stroke:#1f77b4;\" x=\"240.560131\" xlink:href=\"#mb7c9e40ef3\" y=\"142.099248\"/>\r\n     <use style=\"fill:#1f77b4;stroke:#1f77b4;\" x=\"193.585854\" xlink:href=\"#mb7c9e40ef3\" y=\"122.522105\"/>\r\n     <use style=\"fill:#1f77b4;stroke:#1f77b4;\" x=\"169.526193\" xlink:href=\"#mb7c9e40ef3\" y=\"155.362986\"/>\r\n     <use style=\"fill:#1f77b4;stroke:#1f77b4;\" x=\"352.869318\" xlink:href=\"#mb7c9e40ef3\" y=\"49.695589\"/>\r\n     <use style=\"fill:#1f77b4;stroke:#1f77b4;\" x=\"178.848991\" xlink:href=\"#mb7c9e40ef3\" y=\"89.772158\"/>\r\n     <use style=\"fill:#1f77b4;stroke:#1f77b4;\" x=\"266.431752\" xlink:href=\"#mb7c9e40ef3\" y=\"78.749713\"/>\r\n     <use style=\"fill:#1f77b4;stroke:#1f77b4;\" x=\"127.94325\" xlink:href=\"#mb7c9e40ef3\" y=\"161.234755\"/>\r\n     <use style=\"fill:#1f77b4;stroke:#1f77b4;\" x=\"254.996978\" xlink:href=\"#mb7c9e40ef3\" y=\"105.906421\"/>\r\n     <use style=\"fill:#1f77b4;stroke:#1f77b4;\" x=\"141.571635\" xlink:href=\"#mb7c9e40ef3\" y=\"184.860909\"/>\r\n     <use style=\"fill:#1f77b4;stroke:#1f77b4;\" x=\"262.370761\" xlink:href=\"#mb7c9e40ef3\" y=\"104.411465\"/>\r\n     <use style=\"fill:#1f77b4;stroke:#1f77b4;\" x=\"262.153252\" xlink:href=\"#mb7c9e40ef3\" y=\"97.733448\"/>\r\n     <use style=\"fill:#1f77b4;stroke:#1f77b4;\" x=\"110.462935\" xlink:href=\"#mb7c9e40ef3\" y=\"160.115783\"/>\r\n     <use style=\"fill:#1f77b4;stroke:#1f77b4;\" x=\"276.832684\" xlink:href=\"#mb7c9e40ef3\" y=\"110.266145\"/>\r\n     <use style=\"fill:#1f77b4;stroke:#1f77b4;\" x=\"268.341299\" xlink:href=\"#mb7c9e40ef3\" y=\"61.539194\"/>\r\n     <use style=\"fill:#1f77b4;stroke:#1f77b4;\" x=\"244.742806\" xlink:href=\"#mb7c9e40ef3\" y=\"106.884249\"/>\r\n     <use style=\"fill:#1f77b4;stroke:#1f77b4;\" x=\"223.24634\" xlink:href=\"#mb7c9e40ef3\" y=\"128.5702\"/>\r\n     <use style=\"fill:#1f77b4;stroke:#1f77b4;\" x=\"217.821866\" xlink:href=\"#mb7c9e40ef3\" y=\"128.748557\"/>\r\n     <use style=\"fill:#1f77b4;stroke:#1f77b4;\" x=\"176.956787\" xlink:href=\"#mb7c9e40ef3\" y=\"119.245208\"/>\r\n     <use style=\"fill:#1f77b4;stroke:#1f77b4;\" x=\"135.18194\" xlink:href=\"#mb7c9e40ef3\" y=\"147.276289\"/>\r\n     <use style=\"fill:#1f77b4;stroke:#1f77b4;\" x=\"101.088919\" xlink:href=\"#mb7c9e40ef3\" y=\"134.07201\"/>\r\n     <use style=\"fill:#1f77b4;stroke:#1f77b4;\" x=\"240.766824\" xlink:href=\"#mb7c9e40ef3\" y=\"91.987717\"/>\r\n     <use style=\"fill:#1f77b4;stroke:#1f77b4;\" x=\"342.2319\" xlink:href=\"#mb7c9e40ef3\" y=\"25.586578\"/>\r\n     <use style=\"fill:#1f77b4;stroke:#1f77b4;\" x=\"190.548369\" xlink:href=\"#mb7c9e40ef3\" y=\"81.851181\"/>\r\n     <use style=\"fill:#1f77b4;stroke:#1f77b4;\" x=\"339.22732\" xlink:href=\"#mb7c9e40ef3\" y=\"64.113715\"/>\r\n     <use style=\"fill:#1f77b4;stroke:#1f77b4;\" x=\"216.121175\" xlink:href=\"#mb7c9e40ef3\" y=\"101.386755\"/>\r\n     <use style=\"fill:#1f77b4;stroke:#1f77b4;\" x=\"210.800862\" xlink:href=\"#mb7c9e40ef3\" y=\"122.8302\"/>\r\n     <use style=\"fill:#1f77b4;stroke:#1f77b4;\" x=\"216.184458\" xlink:href=\"#mb7c9e40ef3\" y=\"92.980119\"/>\r\n     <use style=\"fill:#1f77b4;stroke:#1f77b4;\" x=\"203.464604\" xlink:href=\"#mb7c9e40ef3\" y=\"136.223594\"/>\r\n     <use style=\"fill:#1f77b4;stroke:#1f77b4;\" x=\"48.505682\" xlink:href=\"#mb7c9e40ef3\" y=\"165.278265\"/>\r\n    </g>\r\n   </g>\r\n   <g id=\"matplotlib.axis_1\">\r\n    <g id=\"xtick_1\">\r\n     <g id=\"line2d_1\">\r\n      <defs>\r\n       <path d=\"M 0 0 \r\nL 0 3.5 \r\n\" id=\"m58813e5af8\" style=\"stroke:#000000;stroke-width:0.8;\"/>\r\n      </defs>\r\n      <g>\r\n       <use style=\"stroke:#000000;stroke-width:0.8;\" x=\"81.296286\" xlink:href=\"#m58813e5af8\" y=\"224.64\"/>\r\n      </g>\r\n     </g>\r\n     <g id=\"text_1\">\r\n      <!-- 30 -->\r\n      <g transform=\"translate(74.933786 239.238437)scale(0.1 -0.1)\">\r\n       <defs>\r\n        <path d=\"M 2597 2516 \r\nQ 3050 2419 3304 2112 \r\nQ 3559 1806 3559 1356 \r\nQ 3559 666 3084 287 \r\nQ 2609 -91 1734 -91 \r\nQ 1441 -91 1130 -33 \r\nQ 819 25 488 141 \r\nL 488 750 \r\nQ 750 597 1062 519 \r\nQ 1375 441 1716 441 \r\nQ 2309 441 2620 675 \r\nQ 2931 909 2931 1356 \r\nQ 2931 1769 2642 2001 \r\nQ 2353 2234 1838 2234 \r\nL 1294 2234 \r\nL 1294 2753 \r\nL 1863 2753 \r\nQ 2328 2753 2575 2939 \r\nQ 2822 3125 2822 3475 \r\nQ 2822 3834 2567 4026 \r\nQ 2313 4219 1838 4219 \r\nQ 1578 4219 1281 4162 \r\nQ 984 4106 628 3988 \r\nL 628 4550 \r\nQ 988 4650 1302 4700 \r\nQ 1616 4750 1894 4750 \r\nQ 2613 4750 3031 4423 \r\nQ 3450 4097 3450 3541 \r\nQ 3450 3153 3228 2886 \r\nQ 3006 2619 2597 2516 \r\nz\r\n\" id=\"DejaVuSans-33\" transform=\"scale(0.015625)\"/>\r\n        <path d=\"M 2034 4250 \r\nQ 1547 4250 1301 3770 \r\nQ 1056 3291 1056 2328 \r\nQ 1056 1369 1301 889 \r\nQ 1547 409 2034 409 \r\nQ 2525 409 2770 889 \r\nQ 3016 1369 3016 2328 \r\nQ 3016 3291 2770 3770 \r\nQ 2525 4250 2034 4250 \r\nz\r\nM 2034 4750 \r\nQ 2819 4750 3233 4129 \r\nQ 3647 3509 3647 2328 \r\nQ 3647 1150 3233 529 \r\nQ 2819 -91 2034 -91 \r\nQ 1250 -91 836 529 \r\nQ 422 1150 422 2328 \r\nQ 422 3509 836 4129 \r\nQ 1250 4750 2034 4750 \r\nz\r\n\" id=\"DejaVuSans-30\" transform=\"scale(0.015625)\"/>\r\n       </defs>\r\n       <use xlink:href=\"#DejaVuSans-33\"/>\r\n       <use x=\"63.623047\" xlink:href=\"#DejaVuSans-30\"/>\r\n      </g>\r\n     </g>\r\n    </g>\r\n    <g id=\"xtick_2\">\r\n     <g id=\"line2d_2\">\r\n      <g>\r\n       <use style=\"stroke:#000000;stroke-width:0.8;\" x=\"148.607178\" xlink:href=\"#m58813e5af8\" y=\"224.64\"/>\r\n      </g>\r\n     </g>\r\n     <g id=\"text_2\">\r\n      <!-- 40 -->\r\n      <g transform=\"translate(142.244678 239.238437)scale(0.1 -0.1)\">\r\n       <defs>\r\n        <path d=\"M 2419 4116 \r\nL 825 1625 \r\nL 2419 1625 \r\nL 2419 4116 \r\nz\r\nM 2253 4666 \r\nL 3047 4666 \r\nL 3047 1625 \r\nL 3713 1625 \r\nL 3713 1100 \r\nL 3047 1100 \r\nL 3047 0 \r\nL 2419 0 \r\nL 2419 1100 \r\nL 313 1100 \r\nL 313 1709 \r\nL 2253 4666 \r\nz\r\n\" id=\"DejaVuSans-34\" transform=\"scale(0.015625)\"/>\r\n       </defs>\r\n       <use xlink:href=\"#DejaVuSans-34\"/>\r\n       <use x=\"63.623047\" xlink:href=\"#DejaVuSans-30\"/>\r\n      </g>\r\n     </g>\r\n    </g>\r\n    <g id=\"xtick_3\">\r\n     <g id=\"line2d_3\">\r\n      <g>\r\n       <use style=\"stroke:#000000;stroke-width:0.8;\" x=\"215.918069\" xlink:href=\"#m58813e5af8\" y=\"224.64\"/>\r\n      </g>\r\n     </g>\r\n     <g id=\"text_3\">\r\n      <!-- 50 -->\r\n      <g transform=\"translate(209.555569 239.238437)scale(0.1 -0.1)\">\r\n       <defs>\r\n        <path d=\"M 691 4666 \r\nL 3169 4666 \r\nL 3169 4134 \r\nL 1269 4134 \r\nL 1269 2991 \r\nQ 1406 3038 1543 3061 \r\nQ 1681 3084 1819 3084 \r\nQ 2600 3084 3056 2656 \r\nQ 3513 2228 3513 1497 \r\nQ 3513 744 3044 326 \r\nQ 2575 -91 1722 -91 \r\nQ 1428 -91 1123 -41 \r\nQ 819 9 494 109 \r\nL 494 744 \r\nQ 775 591 1075 516 \r\nQ 1375 441 1709 441 \r\nQ 2250 441 2565 725 \r\nQ 2881 1009 2881 1497 \r\nQ 2881 1984 2565 2268 \r\nQ 2250 2553 1709 2553 \r\nQ 1456 2553 1204 2497 \r\nQ 953 2441 691 2322 \r\nL 691 4666 \r\nz\r\n\" id=\"DejaVuSans-35\" transform=\"scale(0.015625)\"/>\r\n       </defs>\r\n       <use xlink:href=\"#DejaVuSans-35\"/>\r\n       <use x=\"63.623047\" xlink:href=\"#DejaVuSans-30\"/>\r\n      </g>\r\n     </g>\r\n    </g>\r\n    <g id=\"xtick_4\">\r\n     <g id=\"line2d_4\">\r\n      <g>\r\n       <use style=\"stroke:#000000;stroke-width:0.8;\" x=\"283.228961\" xlink:href=\"#m58813e5af8\" y=\"224.64\"/>\r\n      </g>\r\n     </g>\r\n     <g id=\"text_4\">\r\n      <!-- 60 -->\r\n      <g transform=\"translate(276.866461 239.238437)scale(0.1 -0.1)\">\r\n       <defs>\r\n        <path d=\"M 2113 2584 \r\nQ 1688 2584 1439 2293 \r\nQ 1191 2003 1191 1497 \r\nQ 1191 994 1439 701 \r\nQ 1688 409 2113 409 \r\nQ 2538 409 2786 701 \r\nQ 3034 994 3034 1497 \r\nQ 3034 2003 2786 2293 \r\nQ 2538 2584 2113 2584 \r\nz\r\nM 3366 4563 \r\nL 3366 3988 \r\nQ 3128 4100 2886 4159 \r\nQ 2644 4219 2406 4219 \r\nQ 1781 4219 1451 3797 \r\nQ 1122 3375 1075 2522 \r\nQ 1259 2794 1537 2939 \r\nQ 1816 3084 2150 3084 \r\nQ 2853 3084 3261 2657 \r\nQ 3669 2231 3669 1497 \r\nQ 3669 778 3244 343 \r\nQ 2819 -91 2113 -91 \r\nQ 1303 -91 875 529 \r\nQ 447 1150 447 2328 \r\nQ 447 3434 972 4092 \r\nQ 1497 4750 2381 4750 \r\nQ 2619 4750 2861 4703 \r\nQ 3103 4656 3366 4563 \r\nz\r\n\" id=\"DejaVuSans-36\" transform=\"scale(0.015625)\"/>\r\n       </defs>\r\n       <use xlink:href=\"#DejaVuSans-36\"/>\r\n       <use x=\"63.623047\" xlink:href=\"#DejaVuSans-30\"/>\r\n      </g>\r\n     </g>\r\n    </g>\r\n    <g id=\"xtick_5\">\r\n     <g id=\"line2d_5\">\r\n      <g>\r\n       <use style=\"stroke:#000000;stroke-width:0.8;\" x=\"350.539852\" xlink:href=\"#m58813e5af8\" y=\"224.64\"/>\r\n      </g>\r\n     </g>\r\n     <g id=\"text_5\">\r\n      <!-- 70 -->\r\n      <g transform=\"translate(344.177352 239.238437)scale(0.1 -0.1)\">\r\n       <defs>\r\n        <path d=\"M 525 4666 \r\nL 3525 4666 \r\nL 3525 4397 \r\nL 1831 0 \r\nL 1172 0 \r\nL 2766 4134 \r\nL 525 4134 \r\nL 525 4666 \r\nz\r\n\" id=\"DejaVuSans-37\" transform=\"scale(0.015625)\"/>\r\n       </defs>\r\n       <use xlink:href=\"#DejaVuSans-37\"/>\r\n       <use x=\"63.623047\" xlink:href=\"#DejaVuSans-30\"/>\r\n      </g>\r\n     </g>\r\n    </g>\r\n   </g>\r\n   <g id=\"matplotlib.axis_2\">\r\n    <g id=\"ytick_1\">\r\n     <g id=\"line2d_6\">\r\n      <defs>\r\n       <path d=\"M 0 0 \r\nL -3.5 0 \r\n\" id=\"m0877d125c2\" style=\"stroke:#000000;stroke-width:0.8;\"/>\r\n      </defs>\r\n      <g>\r\n       <use style=\"stroke:#000000;stroke-width:0.8;\" x=\"33.2875\" xlink:href=\"#m0877d125c2\" y=\"195.888738\"/>\r\n      </g>\r\n     </g>\r\n     <g id=\"text_6\">\r\n      <!-- 40 -->\r\n      <g transform=\"translate(13.5625 199.687957)scale(0.1 -0.1)\">\r\n       <use xlink:href=\"#DejaVuSans-34\"/>\r\n       <use x=\"63.623047\" xlink:href=\"#DejaVuSans-30\"/>\r\n      </g>\r\n     </g>\r\n    </g>\r\n    <g id=\"ytick_2\">\r\n     <g id=\"line2d_7\">\r\n      <g>\r\n       <use style=\"stroke:#000000;stroke-width:0.8;\" x=\"33.2875\" xlink:href=\"#m0877d125c2\" y=\"150.386172\"/>\r\n      </g>\r\n     </g>\r\n     <g id=\"text_7\">\r\n      <!-- 60 -->\r\n      <g transform=\"translate(13.5625 154.185391)scale(0.1 -0.1)\">\r\n       <use xlink:href=\"#DejaVuSans-36\"/>\r\n       <use x=\"63.623047\" xlink:href=\"#DejaVuSans-30\"/>\r\n      </g>\r\n     </g>\r\n    </g>\r\n    <g id=\"ytick_3\">\r\n     <g id=\"line2d_8\">\r\n      <g>\r\n       <use style=\"stroke:#000000;stroke-width:0.8;\" x=\"33.2875\" xlink:href=\"#m0877d125c2\" y=\"104.883607\"/>\r\n      </g>\r\n     </g>\r\n     <g id=\"text_8\">\r\n      <!-- 80 -->\r\n      <g transform=\"translate(13.5625 108.682825)scale(0.1 -0.1)\">\r\n       <defs>\r\n        <path d=\"M 2034 2216 \r\nQ 1584 2216 1326 1975 \r\nQ 1069 1734 1069 1313 \r\nQ 1069 891 1326 650 \r\nQ 1584 409 2034 409 \r\nQ 2484 409 2743 651 \r\nQ 3003 894 3003 1313 \r\nQ 3003 1734 2745 1975 \r\nQ 2488 2216 2034 2216 \r\nz\r\nM 1403 2484 \r\nQ 997 2584 770 2862 \r\nQ 544 3141 544 3541 \r\nQ 544 4100 942 4425 \r\nQ 1341 4750 2034 4750 \r\nQ 2731 4750 3128 4425 \r\nQ 3525 4100 3525 3541 \r\nQ 3525 3141 3298 2862 \r\nQ 3072 2584 2669 2484 \r\nQ 3125 2378 3379 2068 \r\nQ 3634 1759 3634 1313 \r\nQ 3634 634 3220 271 \r\nQ 2806 -91 2034 -91 \r\nQ 1263 -91 848 271 \r\nQ 434 634 434 1313 \r\nQ 434 1759 690 2068 \r\nQ 947 2378 1403 2484 \r\nz\r\nM 1172 3481 \r\nQ 1172 3119 1398 2916 \r\nQ 1625 2713 2034 2713 \r\nQ 2441 2713 2670 2916 \r\nQ 2900 3119 2900 3481 \r\nQ 2900 3844 2670 4047 \r\nQ 2441 4250 2034 4250 \r\nQ 1625 4250 1398 4047 \r\nQ 1172 3844 1172 3481 \r\nz\r\n\" id=\"DejaVuSans-38\" transform=\"scale(0.015625)\"/>\r\n       </defs>\r\n       <use xlink:href=\"#DejaVuSans-38\"/>\r\n       <use x=\"63.623047\" xlink:href=\"#DejaVuSans-30\"/>\r\n      </g>\r\n     </g>\r\n    </g>\r\n    <g id=\"ytick_4\">\r\n     <g id=\"line2d_9\">\r\n      <g>\r\n       <use style=\"stroke:#000000;stroke-width:0.8;\" x=\"33.2875\" xlink:href=\"#m0877d125c2\" y=\"59.381041\"/>\r\n      </g>\r\n     </g>\r\n     <g id=\"text_9\">\r\n      <!-- 100 -->\r\n      <g transform=\"translate(7.2 63.18026)scale(0.1 -0.1)\">\r\n       <defs>\r\n        <path d=\"M 794 531 \r\nL 1825 531 \r\nL 1825 4091 \r\nL 703 3866 \r\nL 703 4441 \r\nL 1819 4666 \r\nL 2450 4666 \r\nL 2450 531 \r\nL 3481 531 \r\nL 3481 0 \r\nL 794 0 \r\nL 794 531 \r\nz\r\n\" id=\"DejaVuSans-31\" transform=\"scale(0.015625)\"/>\r\n       </defs>\r\n       <use xlink:href=\"#DejaVuSans-31\"/>\r\n       <use x=\"63.623047\" xlink:href=\"#DejaVuSans-30\"/>\r\n       <use x=\"127.246094\" xlink:href=\"#DejaVuSans-30\"/>\r\n      </g>\r\n     </g>\r\n    </g>\r\n    <g id=\"ytick_5\">\r\n     <g id=\"line2d_10\">\r\n      <g>\r\n       <use style=\"stroke:#000000;stroke-width:0.8;\" x=\"33.2875\" xlink:href=\"#m0877d125c2\" y=\"13.878475\"/>\r\n      </g>\r\n     </g>\r\n     <g id=\"text_10\">\r\n      <!-- 120 -->\r\n      <g transform=\"translate(7.2 17.677694)scale(0.1 -0.1)\">\r\n       <defs>\r\n        <path d=\"M 1228 531 \r\nL 3431 531 \r\nL 3431 0 \r\nL 469 0 \r\nL 469 531 \r\nQ 828 903 1448 1529 \r\nQ 2069 2156 2228 2338 \r\nQ 2531 2678 2651 2914 \r\nQ 2772 3150 2772 3378 \r\nQ 2772 3750 2511 3984 \r\nQ 2250 4219 1831 4219 \r\nQ 1534 4219 1204 4116 \r\nQ 875 4013 500 3803 \r\nL 500 4441 \r\nQ 881 4594 1212 4672 \r\nQ 1544 4750 1819 4750 \r\nQ 2544 4750 2975 4387 \r\nQ 3406 4025 3406 3419 \r\nQ 3406 3131 3298 2873 \r\nQ 3191 2616 2906 2266 \r\nQ 2828 2175 2409 1742 \r\nQ 1991 1309 1228 531 \r\nz\r\n\" id=\"DejaVuSans-32\" transform=\"scale(0.015625)\"/>\r\n       </defs>\r\n       <use xlink:href=\"#DejaVuSans-31\"/>\r\n       <use x=\"63.623047\" xlink:href=\"#DejaVuSans-32\"/>\r\n       <use x=\"127.246094\" xlink:href=\"#DejaVuSans-30\"/>\r\n      </g>\r\n     </g>\r\n    </g>\r\n   </g>\r\n   <g id=\"line2d_11\">\r\n    <path clip-path=\"url(#pda2e6a7190)\" d=\"M 98.139795 170.923458 \r\nL 238.984193 107.968034 \r\nL 293.529937 83.586869 \r\nL 198.926374 125.873304 \r\nL 281.971646 88.753259 \r\nL 250.530598 102.806957 \r\nL 230.80587 111.623627 \r\nL 143.892499 150.472656 \r\nL 203.162936 123.979622 \r\nL 233.082444 110.606031 \r\nL 185.087864 132.058919 \r\nL 245.209312 105.185495 \r\nL 176.635766 135.836886 \r\nL 270.900774 93.701781 \r\nL 261.199506 98.038108 \r\nL 208.890062 121.419679 \r\nL 180.157113 134.262894 \r\nL 285.230294 87.296691 \r\nL 186.42677 131.460448 \r\nL 140.643071 151.925104 \r\nL 324.893168 69.567955 \r\nL 319.684888 71.895982 \r\nL 198.96386 125.856548 \r\nL 159.212969 143.624626 \r\nL 228.338187 112.726646 \r\nL 278.993908 90.084266 \r\nL 265.122354 96.284651 \r\nL 307.565626 77.313118 \r\nL 193.958695 128.093785 \r\nL 219.665671 116.603136 \r\nL 230.887985 111.586923 \r\nL 118.773846 161.700333 \r\nL 165.007321 141.034634 \r\nL 270.874317 93.713607 \r\nL 266.431175 95.699627 \r\nL 185.227875 131.996336 \r\nL 295.992605 82.486092 \r\nL 102.121143 169.143853 \r\nL 124.61764 159.088242 \r\nL 132.961803 155.35852 \r\nL 179.271384 134.658803 \r\nL 170.942834 138.381545 \r\nL 216.410419 118.058187 \r\nL 174.660616 136.719749 \r\nL 303.405271 79.172737 \r\nL 99.261858 170.421912 \r\nL 149.73059 147.863113 \r\nL 239.982235 107.521924 \r\nL 107.306661 166.826 \r\nL 314.913131 74.028889 \r\nL 135.951545 154.022148 \r\nL 178.914163 134.818475 \r\nL 152.642724 146.561431 \r\nL 160.189204 143.188263 \r\nL 223.245766 115.002885 \r\nL 250.099185 102.999792 \r\nL 157.880778 144.220096 \r\nL 300.020992 80.685461 \r\nL 210.559365 120.673524 \r\nL 156.02945 145.047613 \r\nL 156.563433 144.80893 \r\nL 217.172673 117.71747 \r\nL 231.927603 111.122229 \r\nL 216.830034 117.870625 \r\nL 105.829127 167.486437 \r\nL 145.631371 149.695405 \r\nL 257.182263 99.833758 \r\nL 265.472698 96.128052 \r\nL 285.041067 87.381273 \r\nL 119.516042 161.368582 \r\nL 91.986043 173.674097 \r\nL 240.560131 107.263613 \r\nL 193.585854 128.26044 \r\nL 169.526193 139.014763 \r\nL 352.869318 57.063018 \r\nL 178.848991 134.847606 \r\nL 266.431752 95.699369 \r\nL 127.94325 157.601742 \r\nL 254.996978 100.810549 \r\nL 141.571635 151.510049 \r\nL 262.370761 97.514574 \r\nL 262.153252 97.611797 \r\nL 110.462935 165.415192 \r\nL 276.832684 91.050302 \r\nL 268.341299 94.845829 \r\nL 244.742806 105.394017 \r\nL 223.24634 115.002628 \r\nL 217.821866 117.42729 \r\nL 176.956787 135.693394 \r\nL 135.18194 154.366151 \r\nL 101.088919 169.605242 \r\nL 240.766824 107.171223 \r\nL 342.2319 61.817791 \r\nL 190.548369 129.618152 \r\nL 339.22732 63.160795 \r\nL 216.121175 118.187475 \r\nL 210.800862 120.565578 \r\nL 216.184458 118.159188 \r\nL 203.464604 123.84478 \r\nL 48.505682 193.109194 \r\n\" style=\"fill:none;stroke:#ff0000;stroke-linecap:square;stroke-width:1.5;\"/>\r\n   </g>\r\n   <g id=\"patch_3\">\r\n    <path d=\"M 33.2875 224.64 \r\nL 33.2875 7.2 \r\n\" style=\"fill:none;stroke:#000000;stroke-linecap:square;stroke-linejoin:miter;stroke-width:0.8;\"/>\r\n   </g>\r\n   <g id=\"patch_4\">\r\n    <path d=\"M 368.0875 224.64 \r\nL 368.0875 7.2 \r\n\" style=\"fill:none;stroke:#000000;stroke-linecap:square;stroke-linejoin:miter;stroke-width:0.8;\"/>\r\n   </g>\r\n   <g id=\"patch_5\">\r\n    <path d=\"M 33.2875 224.64 \r\nL 368.0875 224.64 \r\n\" style=\"fill:none;stroke:#000000;stroke-linecap:square;stroke-linejoin:miter;stroke-width:0.8;\"/>\r\n   </g>\r\n   <g id=\"patch_6\">\r\n    <path d=\"M 33.2875 7.2 \r\nL 368.0875 7.2 \r\n\" style=\"fill:none;stroke:#000000;stroke-linecap:square;stroke-linejoin:miter;stroke-width:0.8;\"/>\r\n   </g>\r\n  </g>\r\n </g>\r\n <defs>\r\n  <clipPath id=\"pda2e6a7190\">\r\n   <rect height=\"217.44\" width=\"334.8\" x=\"33.2875\" y=\"7.2\"/>\r\n  </clipPath>\r\n </defs>\r\n</svg>\r\n",
      "image/png": "[encoded data removed]"
     },
     "metadata": {
      "needs_background": "light"
     }
    }
   ],
   "metadata": {
    "deletable": false,
    "nbgrader": {
     "checksum": "7f783828630939c2e095a32479fa8a95",
     "grade": false,
     "grade_id": "cell-d5e750d407949b20",
     "locked": false,
     "schema_version": 3,
     "solution": true,
     "task": false
    }
   }
  },
  {
   "cell_type": "code",
   "execution_count": 67,
   "source": [
    "assert abs(a +3*b - 11.69) <= 0.05\r\n",
    "assert abs(a +100*b - 140) <= 1"
   ],
   "outputs": [
    {
     "output_type": "execute_result",
     "data": {
      "text/plain": [
       "'assert abs(a +3*b - 11.69) <= 0.05\\nassert abs(a +100*b - 140) <= 1'"
      ]
     },
     "metadata": {},
     "execution_count": 67
    }
   ],
   "metadata": {
    "deletable": false,
    "editable": false,
    "nbgrader": {
     "checksum": "08b1f875272b06a1c8562f53f455ad9a",
     "grade": true,
     "grade_id": "cell-71f1201b79ff7e44",
     "locked": true,
     "points": 5,
     "schema_version": 3,
     "solution": false,
     "task": false
    }
   }
  },
  {
   "cell_type": "code",
   "execution_count": 99,
   "source": [
    "df[\"Classifier\"] = df[\"Y\"]-df[\"y\"]\r\n",
    "\r\n",
    "df[\"Class\"] = 0\r\n",
    "\r\n",
    "Class = []\r\n",
    "\r\n",
    "for v in df[\"Classifier\"]:\r\n",
    "    if v < 0:\r\n",
    "        Class.append(\"0\")\r\n",
    "    else:\r\n",
    "        Class.append(\"1\")\r\n",
    "\r\n",
    "df[\"Class\"] = Class\r\n",
    "\r\n",
    "df"
   ],
   "outputs": [
    {
     "output_type": "execute_result",
     "data": {
      "text/plain": [
       "            X          Y          y  Classifier Class\n",
       "0   32.502345  31.707006  50.973131  -19.266125     0\n",
       "1   53.426804  68.777596  78.644284   -9.866688     0\n",
       "2   61.530358  62.562382  89.360675  -26.798293     0\n",
       "3   47.475640  71.546632  70.774280    0.772353     1\n",
       "4   59.813208  87.230925  87.089863    0.141062     1\n",
       "..        ...        ...        ...         ...   ...\n",
       "95  50.030174  81.536991  74.152476    7.384515     1\n",
       "96  49.239765  72.111832  73.107214   -0.995382     0\n",
       "97  50.039576  85.232007  74.164909   11.067099     1\n",
       "98  48.149859  66.224958  71.665888   -5.440930     0\n",
       "99  25.128485  53.454394  41.221709   12.232686     1\n",
       "\n",
       "[100 rows x 5 columns]"
      ],
      "text/html": [
       "<div>\n",
       "<style scoped>\n",
       "    .dataframe tbody tr th:only-of-type {\n",
       "        vertical-align: middle;\n",
       "    }\n",
       "\n",
       "    .dataframe tbody tr th {\n",
       "        vertical-align: top;\n",
       "    }\n",
       "\n",
       "    .dataframe thead th {\n",
       "        text-align: right;\n",
       "    }\n",
       "</style>\n",
       "<table border=\"1\" class=\"dataframe\">\n",
       "  <thead>\n",
       "    <tr style=\"text-align: right;\">\n",
       "      <th></th>\n",
       "      <th>X</th>\n",
       "      <th>Y</th>\n",
       "      <th>y</th>\n",
       "      <th>Classifier</th>\n",
       "      <th>Class</th>\n",
       "    </tr>\n",
       "  </thead>\n",
       "  <tbody>\n",
       "    <tr>\n",
       "      <th>0</th>\n",
       "      <td>32.502345</td>\n",
       "      <td>31.707006</td>\n",
       "      <td>50.973131</td>\n",
       "      <td>-19.266125</td>\n",
       "      <td>0</td>\n",
       "    </tr>\n",
       "    <tr>\n",
       "      <th>1</th>\n",
       "      <td>53.426804</td>\n",
       "      <td>68.777596</td>\n",
       "      <td>78.644284</td>\n",
       "      <td>-9.866688</td>\n",
       "      <td>0</td>\n",
       "    </tr>\n",
       "    <tr>\n",
       "      <th>2</th>\n",
       "      <td>61.530358</td>\n",
       "      <td>62.562382</td>\n",
       "      <td>89.360675</td>\n",
       "      <td>-26.798293</td>\n",
       "      <td>0</td>\n",
       "    </tr>\n",
       "    <tr>\n",
       "      <th>3</th>\n",
       "      <td>47.475640</td>\n",
       "      <td>71.546632</td>\n",
       "      <td>70.774280</td>\n",
       "      <td>0.772353</td>\n",
       "      <td>1</td>\n",
       "    </tr>\n",
       "    <tr>\n",
       "      <th>4</th>\n",
       "      <td>59.813208</td>\n",
       "      <td>87.230925</td>\n",
       "      <td>87.089863</td>\n",
       "      <td>0.141062</td>\n",
       "      <td>1</td>\n",
       "    </tr>\n",
       "    <tr>\n",
       "      <th>...</th>\n",
       "      <td>...</td>\n",
       "      <td>...</td>\n",
       "      <td>...</td>\n",
       "      <td>...</td>\n",
       "      <td>...</td>\n",
       "    </tr>\n",
       "    <tr>\n",
       "      <th>95</th>\n",
       "      <td>50.030174</td>\n",
       "      <td>81.536991</td>\n",
       "      <td>74.152476</td>\n",
       "      <td>7.384515</td>\n",
       "      <td>1</td>\n",
       "    </tr>\n",
       "    <tr>\n",
       "      <th>96</th>\n",
       "      <td>49.239765</td>\n",
       "      <td>72.111832</td>\n",
       "      <td>73.107214</td>\n",
       "      <td>-0.995382</td>\n",
       "      <td>0</td>\n",
       "    </tr>\n",
       "    <tr>\n",
       "      <th>97</th>\n",
       "      <td>50.039576</td>\n",
       "      <td>85.232007</td>\n",
       "      <td>74.164909</td>\n",
       "      <td>11.067099</td>\n",
       "      <td>1</td>\n",
       "    </tr>\n",
       "    <tr>\n",
       "      <th>98</th>\n",
       "      <td>48.149859</td>\n",
       "      <td>66.224958</td>\n",
       "      <td>71.665888</td>\n",
       "      <td>-5.440930</td>\n",
       "      <td>0</td>\n",
       "    </tr>\n",
       "    <tr>\n",
       "      <th>99</th>\n",
       "      <td>25.128485</td>\n",
       "      <td>53.454394</td>\n",
       "      <td>41.221709</td>\n",
       "      <td>12.232686</td>\n",
       "      <td>1</td>\n",
       "    </tr>\n",
       "  </tbody>\n",
       "</table>\n",
       "<p>100 rows × 5 columns</p>\n",
       "</div>"
      ]
     },
     "metadata": {},
     "execution_count": 99
    }
   ],
   "metadata": {
    "deletable": false,
    "nbgrader": {
     "checksum": "190229c08d10f48c9a807e51e6ba8eed",
     "grade": false,
     "grade_id": "cell-e8d9edf92254aa00",
     "locked": false,
     "schema_version": 3,
     "solution": true,
     "task": false
    }
   }
  },
  {
   "cell_type": "code",
   "execution_count": 112,
   "source": [
    "#Separate your test data in to classes\r\n",
    "#if the Y value for a certain X is lower than the line then the class is 0\r\n",
    "\r\n",
    "# YOUR CODE HERE\r\n",
    "\r\n",
    "class_0 = df[\"X\"][df[\"Classifier\"] <0].tolist()\r\n",
    "class_1 = df[\"X\"][df[\"Classifier\"] >0].tolist()\r\n",
    "        \r\n",
    "class_0 = np.array(class_0)\r\n",
    "class_1 = np.array(class_1)\r\n",
    "print(class_0.shape)\r\n",
    "print(class_1.shape)"
   ],
   "outputs": [
    {
     "output_type": "stream",
     "name": "stdout",
     "text": [
      "(55,)\n",
      "(45,)\n"
     ]
    }
   ],
   "metadata": {
    "deletable": false,
    "nbgrader": {
     "checksum": "de2e61e7563de9bf967c643b32565f9a",
     "grade": false,
     "grade_id": "cell-8b80d3f35ea3b407",
     "locked": false,
     "schema_version": 3,
     "solution": true,
     "task": false
    }
   }
  },
  {
   "cell_type": "code",
   "execution_count": null,
   "source": [
    "assert 9 < class_0.shape[0] < 13\r\n",
    "assert 7 < class_1.shape[0] < 11"
   ],
   "outputs": [],
   "metadata": {
    "deletable": false,
    "editable": false,
    "nbgrader": {
     "checksum": "1486f3e73b7a9925bfc840c4f84432e7",
     "grade": true,
     "grade_id": "cell-73e31e3494663d82",
     "locked": true,
     "points": 5,
     "schema_version": 3,
     "solution": false,
     "task": false
    }
   }
  },
  {
   "cell_type": "code",
   "execution_count": null,
   "source": [
    "# YOUR CODE HERE\r\n",
    "raise NotImplementedError()"
   ],
   "outputs": [],
   "metadata": {
    "deletable": false,
    "nbgrader": {
     "checksum": "e91f4d245601ab07416f3122d23f9f89",
     "grade": false,
     "grade_id": "cell-db81fd9fa3a21bdf",
     "locked": false,
     "schema_version": 3,
     "solution": true,
     "task": false
    }
   }
  },
  {
   "cell_type": "code",
   "execution_count": 143,
   "source": [
    "# get the total error for the classes\r\n",
    "\r\n",
    "\r\n",
    "\r\n",
    "err = 0\r\n",
    "# YOUR CODE HERE\r\n",
    "\r\n",
    "Accuracy = sum((df[\"y\"] - df[\"y\"].mean())**2) / sum((df[\"Y\"] - df[\"Y\"].mean())**2)\r\n",
    "\r\n",
    "err = 1 - Accuracy \r\n",
    "\r\n",
    "err\r\n"
   ],
   "outputs": [
    {
     "output_type": "execute_result",
     "data": {
      "text/plain": [
       "0.4013442084613368"
      ]
     },
     "metadata": {},
     "execution_count": 143
    }
   ],
   "metadata": {
    "deletable": false,
    "nbgrader": {
     "checksum": "82e87b2d597a41e300a05cd1ed82557b",
     "grade": false,
     "grade_id": "cell-ee8df562ed62329a",
     "locked": false,
     "schema_version": 3,
     "solution": true,
     "task": false
    }
   }
  },
  {
   "cell_type": "code",
   "execution_count": 144,
   "source": [
    "assert err - 201 < 20"
   ],
   "outputs": [],
   "metadata": {
    "deletable": false,
    "editable": false,
    "nbgrader": {
     "checksum": "feb3a49adcd3bb6769f5dc468b838fc8",
     "grade": true,
     "grade_id": "cell-bbe692ec61946f5c",
     "locked": true,
     "points": 5,
     "schema_version": 3,
     "solution": false,
     "task": false
    }
   }
  },
  {
   "cell_type": "code",
   "execution_count": null,
   "source": [],
   "outputs": [],
   "metadata": {}
  }
 ],
 "metadata": {
  "celltoolbar": "Create Assignment",
  "kernelspec": {
   "name": "python3",
   "display_name": "Python 3.8.2 64-bit"
  },
  "language_info": {
   "codemirror_mode": {
    "name": "ipython",
    "version": 3
   },
   "file_extension": ".py",
   "mimetype": "text/x-python",
   "name": "python",
   "nbconvert_exporter": "python",
   "pygments_lexer": "ipython3",
   "version": "3.8.2"
  },
  "interpreter": {
   "hash": "1baa965d5efe3ac65b79dfc60c0d706280b1da80fedb7760faf2759126c4f253"
  }
 },
 "nbformat": 4,
 "nbformat_minor": 2
}